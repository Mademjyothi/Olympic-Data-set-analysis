{
 "cells": [
  {
   "cell_type": "markdown",
   "id": "7009cc05",
   "metadata": {},
   "source": [
    "# Unraveling Olympic Glory: A Data Analysis of Olympic Games Through the Years (1896-2016)"
   ]
  },
  {
   "cell_type": "markdown",
   "id": "5482910f",
   "metadata": {},
   "source": [
    "### About project"
   ]
  },
  {
   "cell_type": "markdown",
   "id": "ed4ac931",
   "metadata": {},
   "source": [
    "### Introduction"
   ]
  },
  {
   "cell_type": "markdown",
   "id": "7b93069c",
   "metadata": {},
   "source": [
    "In this Olympics data analysis project, we will be exploring and analyzing dataset containing various information about sports and games that are counducting in the Olympics. The Olympics is a major international sporting event held every four years, alternating between the Summer and Winter Games. This project aims to gain insights and extract meaningful information from the dataset using data analysis techniques."
   ]
  },
  {
   "cell_type": "markdown",
   "id": "284b34f2",
   "metadata": {},
   "source": [
    "## DataSet Description"
   ]
  },
  {
   "cell_type": "markdown",
   "id": "20c8b52a",
   "metadata": {},
   "source": [
    "   <ul>\n",
    "        <li><b>Id -</b> Unique number for each athlete</li>\n",
    "        <li><b>Name - </b>Athlete's name</li>\n",
    "        <li><b>Sex -</b> M or F</li>\n",
    "        <li><b>Age - </b>Integer</li>\n",
    "        <li><b>Height - </b>In centimeters</li>\n",
    "        <li><b>Weight -</b> In kilograms</li>\n",
    "        <li><b>Team -</b> Team name</li>\n",
    "        <li><b>NOC -</b> National Olympic Committee 3-letter code</li>\n",
    "        <li><b>Games -</b> Year and season</li>\n",
    "        <li><b>Year -</b> Integer</li>\n",
    "        <li><b>Season - </b>Summer or Winter</li>\n",
    "        <li><b>City -</b> Host city</li>\n",
    "        <li><b>Sport - </b>Sport</li>\n",
    "        <li><b>Event - </b>Event</li>\n",
    "        <li><b>Medal - </b>Gold, Silver, Bronze, or NA</li>\n",
    "    </ul>"
   ]
  },
  {
   "cell_type": "markdown",
   "id": "b4ff9c41",
   "metadata": {},
   "source": [
    "# Project Goals:\n",
    "\n",
    "The primary goals of this Olympics data analysis project are as follows"
   ]
  },
  {
   "cell_type": "markdown",
   "id": "db3763cc",
   "metadata": {},
   "source": [
    " <ul>\n",
    "        <li><b>Step-1 : </b> Importing Libraries</li>\n",
    "        <li><b>Step-2 : </b> Reading the DataSets</li>\n",
    "        <li><b>Step-3 : </b> Combining the DataSets</li>\n",
    "        <li><b>Step-4 : </b> Applying Basic Functions</li>\n",
    "        <li><b>Step-5 : </b> Handling the Null values</li>\n",
    "        <li><b>Step-6 : </b> Data Visualization for Indian athletes</li>\n",
    "        <li><b>Step-7 : </b> Data Visualization</li>\n",
    "        <ul>\n",
    "            <li><b>Step-7.1 : </b> Distribution of Medals</li>\n",
    "            <li><b>Step-7.2 : </b> Frequency of Olympic Events Hosted by Cities</li>\n",
    "            <li><b>Step-7.3 : </b> Sports in Summer and Winter Olympics</li>\n",
    "        </ul>\n",
    "        <li><b>Step-8 : </b> Gender Distribution of the participants</li>\n",
    "        <ul>\n",
    "            <li><b>Step-8.1 :</b> Proportion of participants by Gender</li>\n",
    "            <li><b>Step-8.2 :</b> Female and Male athletes participation un summer and winter olympics</li>\n",
    "            <li><b>Step-8.3 :</b> Comparision of Female and Male athletes participation accross the years</li>\n",
    "        </ul>\n",
    "        <li><b>Step-9 : </b> 2016 Olympics</li>\n",
    "        <li><b>Step-10 : </b> Height and Weight of Olympics medalists by Gender</li>\n",
    "    </ul>"
   ]
  },
  {
   "cell_type": "markdown",
   "id": "a37f09fb",
   "metadata": {},
   "source": [
    "# Step - 1 : Importing Libraries"
   ]
  },
  {
   "cell_type": "code",
   "execution_count": 1,
   "id": "4ffc6e2b",
   "metadata": {},
   "outputs": [
    {
     "name": "stderr",
     "output_type": "stream",
     "text": [
      "C:\\Users\\jyoth\\anaconda3\\Lib\\site-packages\\pandas\\core\\arrays\\masked.py:60: UserWarning: Pandas requires version '1.3.6' or newer of 'bottleneck' (version '1.3.5' currently installed).\n",
      "  from pandas.core import (\n"
     ]
    }
   ],
   "source": [
    "import numpy as np\n",
    "import pandas as pd\n",
    "import matplotlib.pyplot as plt\n",
    "import seaborn as sns"
   ]
  },
  {
   "cell_type": "markdown",
   "id": "f35f0344",
   "metadata": {},
   "source": [
    "# Step - 2 : Reading the DataSets"
   ]
  },
  {
   "cell_type": "code",
   "execution_count": 2,
   "id": "4ff8747f",
   "metadata": {},
   "outputs": [],
   "source": [
    "atheltes=pd.read_csv('athlete_events.csv')\n",
    "region=pd.read_csv('noc_regions.csv')"
   ]
  },
  {
   "cell_type": "markdown",
   "id": "87e2039e",
   "metadata": {},
   "source": [
    "# Step - 3 : Combining The DataSets\n"
   ]
  },
  {
   "cell_type": "code",
   "execution_count": 3,
   "id": "345d390a",
   "metadata": {},
   "outputs": [
    {
     "data": {
      "text/html": [
       "<div>\n",
       "<style scoped>\n",
       "    .dataframe tbody tr th:only-of-type {\n",
       "        vertical-align: middle;\n",
       "    }\n",
       "\n",
       "    .dataframe tbody tr th {\n",
       "        vertical-align: top;\n",
       "    }\n",
       "\n",
       "    .dataframe thead th {\n",
       "        text-align: right;\n",
       "    }\n",
       "</style>\n",
       "<table border=\"1\" class=\"dataframe\">\n",
       "  <thead>\n",
       "    <tr style=\"text-align: right;\">\n",
       "      <th></th>\n",
       "      <th>ID</th>\n",
       "      <th>Name</th>\n",
       "      <th>Sex</th>\n",
       "      <th>Age</th>\n",
       "      <th>Height</th>\n",
       "      <th>Weight</th>\n",
       "      <th>Team</th>\n",
       "      <th>NOC</th>\n",
       "      <th>Games</th>\n",
       "      <th>Year</th>\n",
       "      <th>Season</th>\n",
       "      <th>City</th>\n",
       "      <th>Sport</th>\n",
       "      <th>Event</th>\n",
       "      <th>Medal</th>\n",
       "    </tr>\n",
       "  </thead>\n",
       "  <tbody>\n",
       "    <tr>\n",
       "      <th>0</th>\n",
       "      <td>1</td>\n",
       "      <td>A Dijiang</td>\n",
       "      <td>M</td>\n",
       "      <td>24.0</td>\n",
       "      <td>180.0</td>\n",
       "      <td>80.0</td>\n",
       "      <td>China</td>\n",
       "      <td>CHN</td>\n",
       "      <td>1992 Summer</td>\n",
       "      <td>1992</td>\n",
       "      <td>Summer</td>\n",
       "      <td>Barcelona</td>\n",
       "      <td>Basketball</td>\n",
       "      <td>Basketball Men's Basketball</td>\n",
       "      <td>NaN</td>\n",
       "    </tr>\n",
       "    <tr>\n",
       "      <th>1</th>\n",
       "      <td>2</td>\n",
       "      <td>A Lamusi</td>\n",
       "      <td>M</td>\n",
       "      <td>23.0</td>\n",
       "      <td>170.0</td>\n",
       "      <td>60.0</td>\n",
       "      <td>China</td>\n",
       "      <td>CHN</td>\n",
       "      <td>2012 Summer</td>\n",
       "      <td>2012</td>\n",
       "      <td>Summer</td>\n",
       "      <td>London</td>\n",
       "      <td>Judo</td>\n",
       "      <td>Judo Men's Extra-Lightweight</td>\n",
       "      <td>NaN</td>\n",
       "    </tr>\n",
       "    <tr>\n",
       "      <th>2</th>\n",
       "      <td>3</td>\n",
       "      <td>Gunnar Nielsen Aaby</td>\n",
       "      <td>M</td>\n",
       "      <td>24.0</td>\n",
       "      <td>NaN</td>\n",
       "      <td>NaN</td>\n",
       "      <td>Denmark</td>\n",
       "      <td>DEN</td>\n",
       "      <td>1920 Summer</td>\n",
       "      <td>1920</td>\n",
       "      <td>Summer</td>\n",
       "      <td>Antwerpen</td>\n",
       "      <td>Football</td>\n",
       "      <td>Football Men's Football</td>\n",
       "      <td>NaN</td>\n",
       "    </tr>\n",
       "    <tr>\n",
       "      <th>3</th>\n",
       "      <td>4</td>\n",
       "      <td>Edgar Lindenau Aabye</td>\n",
       "      <td>M</td>\n",
       "      <td>34.0</td>\n",
       "      <td>NaN</td>\n",
       "      <td>NaN</td>\n",
       "      <td>Denmark/Sweden</td>\n",
       "      <td>DEN</td>\n",
       "      <td>1900 Summer</td>\n",
       "      <td>1900</td>\n",
       "      <td>Summer</td>\n",
       "      <td>Paris</td>\n",
       "      <td>Tug-Of-War</td>\n",
       "      <td>Tug-Of-War Men's Tug-Of-War</td>\n",
       "      <td>Gold</td>\n",
       "    </tr>\n",
       "    <tr>\n",
       "      <th>4</th>\n",
       "      <td>5</td>\n",
       "      <td>Christine Jacoba Aaftink</td>\n",
       "      <td>F</td>\n",
       "      <td>21.0</td>\n",
       "      <td>185.0</td>\n",
       "      <td>82.0</td>\n",
       "      <td>Netherlands</td>\n",
       "      <td>NED</td>\n",
       "      <td>1988 Winter</td>\n",
       "      <td>1988</td>\n",
       "      <td>Winter</td>\n",
       "      <td>Calgary</td>\n",
       "      <td>Speed Skating</td>\n",
       "      <td>Speed Skating Women's 500 metres</td>\n",
       "      <td>NaN</td>\n",
       "    </tr>\n",
       "    <tr>\n",
       "      <th>5</th>\n",
       "      <td>5</td>\n",
       "      <td>Christine Jacoba Aaftink</td>\n",
       "      <td>F</td>\n",
       "      <td>21.0</td>\n",
       "      <td>185.0</td>\n",
       "      <td>82.0</td>\n",
       "      <td>Netherlands</td>\n",
       "      <td>NED</td>\n",
       "      <td>1988 Winter</td>\n",
       "      <td>1988</td>\n",
       "      <td>Winter</td>\n",
       "      <td>Calgary</td>\n",
       "      <td>Speed Skating</td>\n",
       "      <td>Speed Skating Women's 1,000 metres</td>\n",
       "      <td>NaN</td>\n",
       "    </tr>\n",
       "    <tr>\n",
       "      <th>6</th>\n",
       "      <td>5</td>\n",
       "      <td>Christine Jacoba Aaftink</td>\n",
       "      <td>F</td>\n",
       "      <td>25.0</td>\n",
       "      <td>185.0</td>\n",
       "      <td>82.0</td>\n",
       "      <td>Netherlands</td>\n",
       "      <td>NED</td>\n",
       "      <td>1992 Winter</td>\n",
       "      <td>1992</td>\n",
       "      <td>Winter</td>\n",
       "      <td>Albertville</td>\n",
       "      <td>Speed Skating</td>\n",
       "      <td>Speed Skating Women's 500 metres</td>\n",
       "      <td>NaN</td>\n",
       "    </tr>\n",
       "    <tr>\n",
       "      <th>7</th>\n",
       "      <td>5</td>\n",
       "      <td>Christine Jacoba Aaftink</td>\n",
       "      <td>F</td>\n",
       "      <td>25.0</td>\n",
       "      <td>185.0</td>\n",
       "      <td>82.0</td>\n",
       "      <td>Netherlands</td>\n",
       "      <td>NED</td>\n",
       "      <td>1992 Winter</td>\n",
       "      <td>1992</td>\n",
       "      <td>Winter</td>\n",
       "      <td>Albertville</td>\n",
       "      <td>Speed Skating</td>\n",
       "      <td>Speed Skating Women's 1,000 metres</td>\n",
       "      <td>NaN</td>\n",
       "    </tr>\n",
       "    <tr>\n",
       "      <th>8</th>\n",
       "      <td>5</td>\n",
       "      <td>Christine Jacoba Aaftink</td>\n",
       "      <td>F</td>\n",
       "      <td>27.0</td>\n",
       "      <td>185.0</td>\n",
       "      <td>82.0</td>\n",
       "      <td>Netherlands</td>\n",
       "      <td>NED</td>\n",
       "      <td>1994 Winter</td>\n",
       "      <td>1994</td>\n",
       "      <td>Winter</td>\n",
       "      <td>Lillehammer</td>\n",
       "      <td>Speed Skating</td>\n",
       "      <td>Speed Skating Women's 500 metres</td>\n",
       "      <td>NaN</td>\n",
       "    </tr>\n",
       "    <tr>\n",
       "      <th>9</th>\n",
       "      <td>5</td>\n",
       "      <td>Christine Jacoba Aaftink</td>\n",
       "      <td>F</td>\n",
       "      <td>27.0</td>\n",
       "      <td>185.0</td>\n",
       "      <td>82.0</td>\n",
       "      <td>Netherlands</td>\n",
       "      <td>NED</td>\n",
       "      <td>1994 Winter</td>\n",
       "      <td>1994</td>\n",
       "      <td>Winter</td>\n",
       "      <td>Lillehammer</td>\n",
       "      <td>Speed Skating</td>\n",
       "      <td>Speed Skating Women's 1,000 metres</td>\n",
       "      <td>NaN</td>\n",
       "    </tr>\n",
       "  </tbody>\n",
       "</table>\n",
       "</div>"
      ],
      "text/plain": [
       "   ID                      Name Sex   Age  Height  Weight            Team  \\\n",
       "0   1                 A Dijiang   M  24.0   180.0    80.0           China   \n",
       "1   2                  A Lamusi   M  23.0   170.0    60.0           China   \n",
       "2   3       Gunnar Nielsen Aaby   M  24.0     NaN     NaN         Denmark   \n",
       "3   4      Edgar Lindenau Aabye   M  34.0     NaN     NaN  Denmark/Sweden   \n",
       "4   5  Christine Jacoba Aaftink   F  21.0   185.0    82.0     Netherlands   \n",
       "5   5  Christine Jacoba Aaftink   F  21.0   185.0    82.0     Netherlands   \n",
       "6   5  Christine Jacoba Aaftink   F  25.0   185.0    82.0     Netherlands   \n",
       "7   5  Christine Jacoba Aaftink   F  25.0   185.0    82.0     Netherlands   \n",
       "8   5  Christine Jacoba Aaftink   F  27.0   185.0    82.0     Netherlands   \n",
       "9   5  Christine Jacoba Aaftink   F  27.0   185.0    82.0     Netherlands   \n",
       "\n",
       "   NOC        Games  Year  Season         City          Sport  \\\n",
       "0  CHN  1992 Summer  1992  Summer    Barcelona     Basketball   \n",
       "1  CHN  2012 Summer  2012  Summer       London           Judo   \n",
       "2  DEN  1920 Summer  1920  Summer    Antwerpen       Football   \n",
       "3  DEN  1900 Summer  1900  Summer        Paris     Tug-Of-War   \n",
       "4  NED  1988 Winter  1988  Winter      Calgary  Speed Skating   \n",
       "5  NED  1988 Winter  1988  Winter      Calgary  Speed Skating   \n",
       "6  NED  1992 Winter  1992  Winter  Albertville  Speed Skating   \n",
       "7  NED  1992 Winter  1992  Winter  Albertville  Speed Skating   \n",
       "8  NED  1994 Winter  1994  Winter  Lillehammer  Speed Skating   \n",
       "9  NED  1994 Winter  1994  Winter  Lillehammer  Speed Skating   \n",
       "\n",
       "                                Event Medal  \n",
       "0         Basketball Men's Basketball   NaN  \n",
       "1        Judo Men's Extra-Lightweight   NaN  \n",
       "2             Football Men's Football   NaN  \n",
       "3         Tug-Of-War Men's Tug-Of-War  Gold  \n",
       "4    Speed Skating Women's 500 metres   NaN  \n",
       "5  Speed Skating Women's 1,000 metres   NaN  \n",
       "6    Speed Skating Women's 500 metres   NaN  \n",
       "7  Speed Skating Women's 1,000 metres   NaN  \n",
       "8    Speed Skating Women's 500 metres   NaN  \n",
       "9  Speed Skating Women's 1,000 metres   NaN  "
      ]
     },
     "execution_count": 3,
     "metadata": {},
     "output_type": "execute_result"
    }
   ],
   "source": [
    "atheltes.head(10)"
   ]
  },
  {
   "cell_type": "code",
   "execution_count": 4,
   "id": "0b0df027",
   "metadata": {},
   "outputs": [
    {
     "data": {
      "text/html": [
       "<div>\n",
       "<style scoped>\n",
       "    .dataframe tbody tr th:only-of-type {\n",
       "        vertical-align: middle;\n",
       "    }\n",
       "\n",
       "    .dataframe tbody tr th {\n",
       "        vertical-align: top;\n",
       "    }\n",
       "\n",
       "    .dataframe thead th {\n",
       "        text-align: right;\n",
       "    }\n",
       "</style>\n",
       "<table border=\"1\" class=\"dataframe\">\n",
       "  <thead>\n",
       "    <tr style=\"text-align: right;\">\n",
       "      <th></th>\n",
       "      <th>NOC</th>\n",
       "      <th>region</th>\n",
       "      <th>notes</th>\n",
       "    </tr>\n",
       "  </thead>\n",
       "  <tbody>\n",
       "    <tr>\n",
       "      <th>0</th>\n",
       "      <td>AFG</td>\n",
       "      <td>Afghanistan</td>\n",
       "      <td>NaN</td>\n",
       "    </tr>\n",
       "    <tr>\n",
       "      <th>1</th>\n",
       "      <td>AHO</td>\n",
       "      <td>Curacao</td>\n",
       "      <td>Netherlands Antilles</td>\n",
       "    </tr>\n",
       "    <tr>\n",
       "      <th>2</th>\n",
       "      <td>ALB</td>\n",
       "      <td>Albania</td>\n",
       "      <td>NaN</td>\n",
       "    </tr>\n",
       "    <tr>\n",
       "      <th>3</th>\n",
       "      <td>ALG</td>\n",
       "      <td>Algeria</td>\n",
       "      <td>NaN</td>\n",
       "    </tr>\n",
       "    <tr>\n",
       "      <th>4</th>\n",
       "      <td>AND</td>\n",
       "      <td>Andorra</td>\n",
       "      <td>NaN</td>\n",
       "    </tr>\n",
       "    <tr>\n",
       "      <th>5</th>\n",
       "      <td>ANG</td>\n",
       "      <td>Angola</td>\n",
       "      <td>NaN</td>\n",
       "    </tr>\n",
       "    <tr>\n",
       "      <th>6</th>\n",
       "      <td>ANT</td>\n",
       "      <td>Antigua</td>\n",
       "      <td>Antigua and Barbuda</td>\n",
       "    </tr>\n",
       "    <tr>\n",
       "      <th>7</th>\n",
       "      <td>ANZ</td>\n",
       "      <td>Australia</td>\n",
       "      <td>Australasia</td>\n",
       "    </tr>\n",
       "    <tr>\n",
       "      <th>8</th>\n",
       "      <td>ARG</td>\n",
       "      <td>Argentina</td>\n",
       "      <td>NaN</td>\n",
       "    </tr>\n",
       "    <tr>\n",
       "      <th>9</th>\n",
       "      <td>ARM</td>\n",
       "      <td>Armenia</td>\n",
       "      <td>NaN</td>\n",
       "    </tr>\n",
       "  </tbody>\n",
       "</table>\n",
       "</div>"
      ],
      "text/plain": [
       "   NOC       region                 notes\n",
       "0  AFG  Afghanistan                   NaN\n",
       "1  AHO      Curacao  Netherlands Antilles\n",
       "2  ALB      Albania                   NaN\n",
       "3  ALG      Algeria                   NaN\n",
       "4  AND      Andorra                   NaN\n",
       "5  ANG       Angola                   NaN\n",
       "6  ANT      Antigua   Antigua and Barbuda\n",
       "7  ANZ    Australia           Australasia\n",
       "8  ARG    Argentina                   NaN\n",
       "9  ARM      Armenia                   NaN"
      ]
     },
     "execution_count": 4,
     "metadata": {},
     "output_type": "execute_result"
    }
   ],
   "source": [
    "region.head(10)"
   ]
  },
  {
   "cell_type": "code",
   "execution_count": 5,
   "id": "66b3b873",
   "metadata": {},
   "outputs": [
    {
     "data": {
      "text/html": [
       "<div>\n",
       "<style scoped>\n",
       "    .dataframe tbody tr th:only-of-type {\n",
       "        vertical-align: middle;\n",
       "    }\n",
       "\n",
       "    .dataframe tbody tr th {\n",
       "        vertical-align: top;\n",
       "    }\n",
       "\n",
       "    .dataframe thead th {\n",
       "        text-align: right;\n",
       "    }\n",
       "</style>\n",
       "<table border=\"1\" class=\"dataframe\">\n",
       "  <thead>\n",
       "    <tr style=\"text-align: right;\">\n",
       "      <th></th>\n",
       "      <th>ID</th>\n",
       "      <th>Name</th>\n",
       "      <th>Sex</th>\n",
       "      <th>Age</th>\n",
       "      <th>Height</th>\n",
       "      <th>Weight</th>\n",
       "      <th>Team</th>\n",
       "      <th>NOC</th>\n",
       "      <th>Games</th>\n",
       "      <th>Year</th>\n",
       "      <th>Season</th>\n",
       "      <th>City</th>\n",
       "      <th>Sport</th>\n",
       "      <th>Event</th>\n",
       "      <th>Medal</th>\n",
       "    </tr>\n",
       "  </thead>\n",
       "  <tbody>\n",
       "    <tr>\n",
       "      <th>271106</th>\n",
       "      <td>135565</td>\n",
       "      <td>Fernando scar Zylberberg</td>\n",
       "      <td>M</td>\n",
       "      <td>27.0</td>\n",
       "      <td>168.0</td>\n",
       "      <td>76.0</td>\n",
       "      <td>Argentina</td>\n",
       "      <td>ARG</td>\n",
       "      <td>2004 Summer</td>\n",
       "      <td>2004</td>\n",
       "      <td>Summer</td>\n",
       "      <td>Athina</td>\n",
       "      <td>Hockey</td>\n",
       "      <td>Hockey Men's Hockey</td>\n",
       "      <td>NaN</td>\n",
       "    </tr>\n",
       "    <tr>\n",
       "      <th>271107</th>\n",
       "      <td>135566</td>\n",
       "      <td>James Francis \"Jim\" Zylker</td>\n",
       "      <td>M</td>\n",
       "      <td>21.0</td>\n",
       "      <td>175.0</td>\n",
       "      <td>75.0</td>\n",
       "      <td>United States</td>\n",
       "      <td>USA</td>\n",
       "      <td>1972 Summer</td>\n",
       "      <td>1972</td>\n",
       "      <td>Summer</td>\n",
       "      <td>Munich</td>\n",
       "      <td>Football</td>\n",
       "      <td>Football Men's Football</td>\n",
       "      <td>NaN</td>\n",
       "    </tr>\n",
       "    <tr>\n",
       "      <th>271108</th>\n",
       "      <td>135567</td>\n",
       "      <td>Aleksandr Viktorovich Zyuzin</td>\n",
       "      <td>M</td>\n",
       "      <td>24.0</td>\n",
       "      <td>183.0</td>\n",
       "      <td>72.0</td>\n",
       "      <td>Russia</td>\n",
       "      <td>RUS</td>\n",
       "      <td>2000 Summer</td>\n",
       "      <td>2000</td>\n",
       "      <td>Summer</td>\n",
       "      <td>Sydney</td>\n",
       "      <td>Rowing</td>\n",
       "      <td>Rowing Men's Lightweight Coxless Fours</td>\n",
       "      <td>NaN</td>\n",
       "    </tr>\n",
       "    <tr>\n",
       "      <th>271109</th>\n",
       "      <td>135567</td>\n",
       "      <td>Aleksandr Viktorovich Zyuzin</td>\n",
       "      <td>M</td>\n",
       "      <td>28.0</td>\n",
       "      <td>183.0</td>\n",
       "      <td>72.0</td>\n",
       "      <td>Russia</td>\n",
       "      <td>RUS</td>\n",
       "      <td>2004 Summer</td>\n",
       "      <td>2004</td>\n",
       "      <td>Summer</td>\n",
       "      <td>Athina</td>\n",
       "      <td>Rowing</td>\n",
       "      <td>Rowing Men's Lightweight Coxless Fours</td>\n",
       "      <td>NaN</td>\n",
       "    </tr>\n",
       "    <tr>\n",
       "      <th>271110</th>\n",
       "      <td>135568</td>\n",
       "      <td>Olga Igorevna Zyuzkova</td>\n",
       "      <td>F</td>\n",
       "      <td>33.0</td>\n",
       "      <td>171.0</td>\n",
       "      <td>69.0</td>\n",
       "      <td>Belarus</td>\n",
       "      <td>BLR</td>\n",
       "      <td>2016 Summer</td>\n",
       "      <td>2016</td>\n",
       "      <td>Summer</td>\n",
       "      <td>Rio de Janeiro</td>\n",
       "      <td>Basketball</td>\n",
       "      <td>Basketball Women's Basketball</td>\n",
       "      <td>NaN</td>\n",
       "    </tr>\n",
       "    <tr>\n",
       "      <th>271111</th>\n",
       "      <td>135569</td>\n",
       "      <td>Andrzej ya</td>\n",
       "      <td>M</td>\n",
       "      <td>29.0</td>\n",
       "      <td>179.0</td>\n",
       "      <td>89.0</td>\n",
       "      <td>Poland-1</td>\n",
       "      <td>POL</td>\n",
       "      <td>1976 Winter</td>\n",
       "      <td>1976</td>\n",
       "      <td>Winter</td>\n",
       "      <td>Innsbruck</td>\n",
       "      <td>Luge</td>\n",
       "      <td>Luge Mixed (Men)'s Doubles</td>\n",
       "      <td>NaN</td>\n",
       "    </tr>\n",
       "    <tr>\n",
       "      <th>271112</th>\n",
       "      <td>135570</td>\n",
       "      <td>Piotr ya</td>\n",
       "      <td>M</td>\n",
       "      <td>27.0</td>\n",
       "      <td>176.0</td>\n",
       "      <td>59.0</td>\n",
       "      <td>Poland</td>\n",
       "      <td>POL</td>\n",
       "      <td>2014 Winter</td>\n",
       "      <td>2014</td>\n",
       "      <td>Winter</td>\n",
       "      <td>Sochi</td>\n",
       "      <td>Ski Jumping</td>\n",
       "      <td>Ski Jumping Men's Large Hill, Individual</td>\n",
       "      <td>NaN</td>\n",
       "    </tr>\n",
       "    <tr>\n",
       "      <th>271113</th>\n",
       "      <td>135570</td>\n",
       "      <td>Piotr ya</td>\n",
       "      <td>M</td>\n",
       "      <td>27.0</td>\n",
       "      <td>176.0</td>\n",
       "      <td>59.0</td>\n",
       "      <td>Poland</td>\n",
       "      <td>POL</td>\n",
       "      <td>2014 Winter</td>\n",
       "      <td>2014</td>\n",
       "      <td>Winter</td>\n",
       "      <td>Sochi</td>\n",
       "      <td>Ski Jumping</td>\n",
       "      <td>Ski Jumping Men's Large Hill, Team</td>\n",
       "      <td>NaN</td>\n",
       "    </tr>\n",
       "    <tr>\n",
       "      <th>271114</th>\n",
       "      <td>135571</td>\n",
       "      <td>Tomasz Ireneusz ya</td>\n",
       "      <td>M</td>\n",
       "      <td>30.0</td>\n",
       "      <td>185.0</td>\n",
       "      <td>96.0</td>\n",
       "      <td>Poland</td>\n",
       "      <td>POL</td>\n",
       "      <td>1998 Winter</td>\n",
       "      <td>1998</td>\n",
       "      <td>Winter</td>\n",
       "      <td>Nagano</td>\n",
       "      <td>Bobsleigh</td>\n",
       "      <td>Bobsleigh Men's Four</td>\n",
       "      <td>NaN</td>\n",
       "    </tr>\n",
       "    <tr>\n",
       "      <th>271115</th>\n",
       "      <td>135571</td>\n",
       "      <td>Tomasz Ireneusz ya</td>\n",
       "      <td>M</td>\n",
       "      <td>34.0</td>\n",
       "      <td>185.0</td>\n",
       "      <td>96.0</td>\n",
       "      <td>Poland</td>\n",
       "      <td>POL</td>\n",
       "      <td>2002 Winter</td>\n",
       "      <td>2002</td>\n",
       "      <td>Winter</td>\n",
       "      <td>Salt Lake City</td>\n",
       "      <td>Bobsleigh</td>\n",
       "      <td>Bobsleigh Men's Four</td>\n",
       "      <td>NaN</td>\n",
       "    </tr>\n",
       "  </tbody>\n",
       "</table>\n",
       "</div>"
      ],
      "text/plain": [
       "            ID                          Name Sex   Age  Height  Weight  \\\n",
       "271106  135565      Fernando scar Zylberberg   M  27.0   168.0    76.0   \n",
       "271107  135566    James Francis \"Jim\" Zylker   M  21.0   175.0    75.0   \n",
       "271108  135567  Aleksandr Viktorovich Zyuzin   M  24.0   183.0    72.0   \n",
       "271109  135567  Aleksandr Viktorovich Zyuzin   M  28.0   183.0    72.0   \n",
       "271110  135568        Olga Igorevna Zyuzkova   F  33.0   171.0    69.0   \n",
       "271111  135569                    Andrzej ya   M  29.0   179.0    89.0   \n",
       "271112  135570                      Piotr ya   M  27.0   176.0    59.0   \n",
       "271113  135570                      Piotr ya   M  27.0   176.0    59.0   \n",
       "271114  135571            Tomasz Ireneusz ya   M  30.0   185.0    96.0   \n",
       "271115  135571            Tomasz Ireneusz ya   M  34.0   185.0    96.0   \n",
       "\n",
       "                 Team  NOC        Games  Year  Season            City  \\\n",
       "271106      Argentina  ARG  2004 Summer  2004  Summer          Athina   \n",
       "271107  United States  USA  1972 Summer  1972  Summer          Munich   \n",
       "271108         Russia  RUS  2000 Summer  2000  Summer          Sydney   \n",
       "271109         Russia  RUS  2004 Summer  2004  Summer          Athina   \n",
       "271110        Belarus  BLR  2016 Summer  2016  Summer  Rio de Janeiro   \n",
       "271111       Poland-1  POL  1976 Winter  1976  Winter       Innsbruck   \n",
       "271112         Poland  POL  2014 Winter  2014  Winter           Sochi   \n",
       "271113         Poland  POL  2014 Winter  2014  Winter           Sochi   \n",
       "271114         Poland  POL  1998 Winter  1998  Winter          Nagano   \n",
       "271115         Poland  POL  2002 Winter  2002  Winter  Salt Lake City   \n",
       "\n",
       "              Sport                                     Event Medal  \n",
       "271106       Hockey                       Hockey Men's Hockey   NaN  \n",
       "271107     Football                   Football Men's Football   NaN  \n",
       "271108       Rowing    Rowing Men's Lightweight Coxless Fours   NaN  \n",
       "271109       Rowing    Rowing Men's Lightweight Coxless Fours   NaN  \n",
       "271110   Basketball             Basketball Women's Basketball   NaN  \n",
       "271111         Luge                Luge Mixed (Men)'s Doubles   NaN  \n",
       "271112  Ski Jumping  Ski Jumping Men's Large Hill, Individual   NaN  \n",
       "271113  Ski Jumping        Ski Jumping Men's Large Hill, Team   NaN  \n",
       "271114    Bobsleigh                      Bobsleigh Men's Four   NaN  \n",
       "271115    Bobsleigh                      Bobsleigh Men's Four   NaN  "
      ]
     },
     "execution_count": 5,
     "metadata": {},
     "output_type": "execute_result"
    }
   ],
   "source": [
    "atheltes.tail(10)"
   ]
  },
  {
   "cell_type": "code",
   "execution_count": 6,
   "id": "7cfbd0cb",
   "metadata": {},
   "outputs": [
    {
     "data": {
      "text/html": [
       "<div>\n",
       "<style scoped>\n",
       "    .dataframe tbody tr th:only-of-type {\n",
       "        vertical-align: middle;\n",
       "    }\n",
       "\n",
       "    .dataframe tbody tr th {\n",
       "        vertical-align: top;\n",
       "    }\n",
       "\n",
       "    .dataframe thead th {\n",
       "        text-align: right;\n",
       "    }\n",
       "</style>\n",
       "<table border=\"1\" class=\"dataframe\">\n",
       "  <thead>\n",
       "    <tr style=\"text-align: right;\">\n",
       "      <th></th>\n",
       "      <th>NOC</th>\n",
       "      <th>region</th>\n",
       "      <th>notes</th>\n",
       "    </tr>\n",
       "  </thead>\n",
       "  <tbody>\n",
       "    <tr>\n",
       "      <th>220</th>\n",
       "      <td>VIE</td>\n",
       "      <td>Vietnam</td>\n",
       "      <td>NaN</td>\n",
       "    </tr>\n",
       "    <tr>\n",
       "      <th>221</th>\n",
       "      <td>VIN</td>\n",
       "      <td>Saint Vincent</td>\n",
       "      <td>NaN</td>\n",
       "    </tr>\n",
       "    <tr>\n",
       "      <th>222</th>\n",
       "      <td>VNM</td>\n",
       "      <td>Vietnam</td>\n",
       "      <td>NaN</td>\n",
       "    </tr>\n",
       "    <tr>\n",
       "      <th>223</th>\n",
       "      <td>WIF</td>\n",
       "      <td>Trinidad</td>\n",
       "      <td>West Indies Federation</td>\n",
       "    </tr>\n",
       "    <tr>\n",
       "      <th>224</th>\n",
       "      <td>YAR</td>\n",
       "      <td>Yemen</td>\n",
       "      <td>North Yemen</td>\n",
       "    </tr>\n",
       "    <tr>\n",
       "      <th>225</th>\n",
       "      <td>YEM</td>\n",
       "      <td>Yemen</td>\n",
       "      <td>NaN</td>\n",
       "    </tr>\n",
       "    <tr>\n",
       "      <th>226</th>\n",
       "      <td>YMD</td>\n",
       "      <td>Yemen</td>\n",
       "      <td>South Yemen</td>\n",
       "    </tr>\n",
       "    <tr>\n",
       "      <th>227</th>\n",
       "      <td>YUG</td>\n",
       "      <td>Serbia</td>\n",
       "      <td>Yugoslavia</td>\n",
       "    </tr>\n",
       "    <tr>\n",
       "      <th>228</th>\n",
       "      <td>ZAM</td>\n",
       "      <td>Zambia</td>\n",
       "      <td>NaN</td>\n",
       "    </tr>\n",
       "    <tr>\n",
       "      <th>229</th>\n",
       "      <td>ZIM</td>\n",
       "      <td>Zimbabwe</td>\n",
       "      <td>NaN</td>\n",
       "    </tr>\n",
       "  </tbody>\n",
       "</table>\n",
       "</div>"
      ],
      "text/plain": [
       "     NOC         region                   notes\n",
       "220  VIE        Vietnam                     NaN\n",
       "221  VIN  Saint Vincent                     NaN\n",
       "222  VNM        Vietnam                     NaN\n",
       "223  WIF       Trinidad  West Indies Federation\n",
       "224  YAR          Yemen             North Yemen\n",
       "225  YEM          Yemen                     NaN\n",
       "226  YMD          Yemen             South Yemen\n",
       "227  YUG         Serbia              Yugoslavia\n",
       "228  ZAM         Zambia                     NaN\n",
       "229  ZIM       Zimbabwe                     NaN"
      ]
     },
     "execution_count": 6,
     "metadata": {},
     "output_type": "execute_result"
    }
   ],
   "source": [
    "region.tail(10)"
   ]
  },
  {
   "cell_type": "markdown",
   "id": "b5bcf271",
   "metadata": {},
   "source": [
    "## Merged DataFrame: Athletes and Region Information"
   ]
  },
  {
   "cell_type": "code",
   "execution_count": 4,
   "id": "6d34d1ab",
   "metadata": {},
   "outputs": [
    {
     "data": {
      "text/html": [
       "<div>\n",
       "<style scoped>\n",
       "    .dataframe tbody tr th:only-of-type {\n",
       "        vertical-align: middle;\n",
       "    }\n",
       "\n",
       "    .dataframe tbody tr th {\n",
       "        vertical-align: top;\n",
       "    }\n",
       "\n",
       "    .dataframe thead th {\n",
       "        text-align: right;\n",
       "    }\n",
       "</style>\n",
       "<table border=\"1\" class=\"dataframe\">\n",
       "  <thead>\n",
       "    <tr style=\"text-align: right;\">\n",
       "      <th></th>\n",
       "      <th>ID</th>\n",
       "      <th>Name</th>\n",
       "      <th>Sex</th>\n",
       "      <th>Age</th>\n",
       "      <th>Height</th>\n",
       "      <th>Weight</th>\n",
       "      <th>Team</th>\n",
       "      <th>NOC</th>\n",
       "      <th>Games</th>\n",
       "      <th>Year</th>\n",
       "      <th>Season</th>\n",
       "      <th>City</th>\n",
       "      <th>Sport</th>\n",
       "      <th>Event</th>\n",
       "      <th>Medal</th>\n",
       "      <th>region</th>\n",
       "      <th>notes</th>\n",
       "    </tr>\n",
       "  </thead>\n",
       "  <tbody>\n",
       "    <tr>\n",
       "      <th>0</th>\n",
       "      <td>1</td>\n",
       "      <td>A Dijiang</td>\n",
       "      <td>M</td>\n",
       "      <td>24.0</td>\n",
       "      <td>180.0</td>\n",
       "      <td>80.0</td>\n",
       "      <td>China</td>\n",
       "      <td>CHN</td>\n",
       "      <td>1992 Summer</td>\n",
       "      <td>1992</td>\n",
       "      <td>Summer</td>\n",
       "      <td>Barcelona</td>\n",
       "      <td>Basketball</td>\n",
       "      <td>Basketball Men's Basketball</td>\n",
       "      <td>NaN</td>\n",
       "      <td>China</td>\n",
       "      <td>NaN</td>\n",
       "    </tr>\n",
       "    <tr>\n",
       "      <th>1</th>\n",
       "      <td>2</td>\n",
       "      <td>A Lamusi</td>\n",
       "      <td>M</td>\n",
       "      <td>23.0</td>\n",
       "      <td>170.0</td>\n",
       "      <td>60.0</td>\n",
       "      <td>China</td>\n",
       "      <td>CHN</td>\n",
       "      <td>2012 Summer</td>\n",
       "      <td>2012</td>\n",
       "      <td>Summer</td>\n",
       "      <td>London</td>\n",
       "      <td>Judo</td>\n",
       "      <td>Judo Men's Extra-Lightweight</td>\n",
       "      <td>NaN</td>\n",
       "      <td>China</td>\n",
       "      <td>NaN</td>\n",
       "    </tr>\n",
       "    <tr>\n",
       "      <th>2</th>\n",
       "      <td>3</td>\n",
       "      <td>Gunnar Nielsen Aaby</td>\n",
       "      <td>M</td>\n",
       "      <td>24.0</td>\n",
       "      <td>NaN</td>\n",
       "      <td>NaN</td>\n",
       "      <td>Denmark</td>\n",
       "      <td>DEN</td>\n",
       "      <td>1920 Summer</td>\n",
       "      <td>1920</td>\n",
       "      <td>Summer</td>\n",
       "      <td>Antwerpen</td>\n",
       "      <td>Football</td>\n",
       "      <td>Football Men's Football</td>\n",
       "      <td>NaN</td>\n",
       "      <td>Denmark</td>\n",
       "      <td>NaN</td>\n",
       "    </tr>\n",
       "    <tr>\n",
       "      <th>3</th>\n",
       "      <td>4</td>\n",
       "      <td>Edgar Lindenau Aabye</td>\n",
       "      <td>M</td>\n",
       "      <td>34.0</td>\n",
       "      <td>NaN</td>\n",
       "      <td>NaN</td>\n",
       "      <td>Denmark/Sweden</td>\n",
       "      <td>DEN</td>\n",
       "      <td>1900 Summer</td>\n",
       "      <td>1900</td>\n",
       "      <td>Summer</td>\n",
       "      <td>Paris</td>\n",
       "      <td>Tug-Of-War</td>\n",
       "      <td>Tug-Of-War Men's Tug-Of-War</td>\n",
       "      <td>Gold</td>\n",
       "      <td>Denmark</td>\n",
       "      <td>NaN</td>\n",
       "    </tr>\n",
       "    <tr>\n",
       "      <th>4</th>\n",
       "      <td>5</td>\n",
       "      <td>Christine Jacoba Aaftink</td>\n",
       "      <td>F</td>\n",
       "      <td>21.0</td>\n",
       "      <td>185.0</td>\n",
       "      <td>82.0</td>\n",
       "      <td>Netherlands</td>\n",
       "      <td>NED</td>\n",
       "      <td>1988 Winter</td>\n",
       "      <td>1988</td>\n",
       "      <td>Winter</td>\n",
       "      <td>Calgary</td>\n",
       "      <td>Speed Skating</td>\n",
       "      <td>Speed Skating Women's 500 metres</td>\n",
       "      <td>NaN</td>\n",
       "      <td>Netherlands</td>\n",
       "      <td>NaN</td>\n",
       "    </tr>\n",
       "    <tr>\n",
       "      <th>5</th>\n",
       "      <td>5</td>\n",
       "      <td>Christine Jacoba Aaftink</td>\n",
       "      <td>F</td>\n",
       "      <td>21.0</td>\n",
       "      <td>185.0</td>\n",
       "      <td>82.0</td>\n",
       "      <td>Netherlands</td>\n",
       "      <td>NED</td>\n",
       "      <td>1988 Winter</td>\n",
       "      <td>1988</td>\n",
       "      <td>Winter</td>\n",
       "      <td>Calgary</td>\n",
       "      <td>Speed Skating</td>\n",
       "      <td>Speed Skating Women's 1,000 metres</td>\n",
       "      <td>NaN</td>\n",
       "      <td>Netherlands</td>\n",
       "      <td>NaN</td>\n",
       "    </tr>\n",
       "    <tr>\n",
       "      <th>6</th>\n",
       "      <td>5</td>\n",
       "      <td>Christine Jacoba Aaftink</td>\n",
       "      <td>F</td>\n",
       "      <td>25.0</td>\n",
       "      <td>185.0</td>\n",
       "      <td>82.0</td>\n",
       "      <td>Netherlands</td>\n",
       "      <td>NED</td>\n",
       "      <td>1992 Winter</td>\n",
       "      <td>1992</td>\n",
       "      <td>Winter</td>\n",
       "      <td>Albertville</td>\n",
       "      <td>Speed Skating</td>\n",
       "      <td>Speed Skating Women's 500 metres</td>\n",
       "      <td>NaN</td>\n",
       "      <td>Netherlands</td>\n",
       "      <td>NaN</td>\n",
       "    </tr>\n",
       "    <tr>\n",
       "      <th>7</th>\n",
       "      <td>5</td>\n",
       "      <td>Christine Jacoba Aaftink</td>\n",
       "      <td>F</td>\n",
       "      <td>25.0</td>\n",
       "      <td>185.0</td>\n",
       "      <td>82.0</td>\n",
       "      <td>Netherlands</td>\n",
       "      <td>NED</td>\n",
       "      <td>1992 Winter</td>\n",
       "      <td>1992</td>\n",
       "      <td>Winter</td>\n",
       "      <td>Albertville</td>\n",
       "      <td>Speed Skating</td>\n",
       "      <td>Speed Skating Women's 1,000 metres</td>\n",
       "      <td>NaN</td>\n",
       "      <td>Netherlands</td>\n",
       "      <td>NaN</td>\n",
       "    </tr>\n",
       "    <tr>\n",
       "      <th>8</th>\n",
       "      <td>5</td>\n",
       "      <td>Christine Jacoba Aaftink</td>\n",
       "      <td>F</td>\n",
       "      <td>27.0</td>\n",
       "      <td>185.0</td>\n",
       "      <td>82.0</td>\n",
       "      <td>Netherlands</td>\n",
       "      <td>NED</td>\n",
       "      <td>1994 Winter</td>\n",
       "      <td>1994</td>\n",
       "      <td>Winter</td>\n",
       "      <td>Lillehammer</td>\n",
       "      <td>Speed Skating</td>\n",
       "      <td>Speed Skating Women's 500 metres</td>\n",
       "      <td>NaN</td>\n",
       "      <td>Netherlands</td>\n",
       "      <td>NaN</td>\n",
       "    </tr>\n",
       "    <tr>\n",
       "      <th>9</th>\n",
       "      <td>5</td>\n",
       "      <td>Christine Jacoba Aaftink</td>\n",
       "      <td>F</td>\n",
       "      <td>27.0</td>\n",
       "      <td>185.0</td>\n",
       "      <td>82.0</td>\n",
       "      <td>Netherlands</td>\n",
       "      <td>NED</td>\n",
       "      <td>1994 Winter</td>\n",
       "      <td>1994</td>\n",
       "      <td>Winter</td>\n",
       "      <td>Lillehammer</td>\n",
       "      <td>Speed Skating</td>\n",
       "      <td>Speed Skating Women's 1,000 metres</td>\n",
       "      <td>NaN</td>\n",
       "      <td>Netherlands</td>\n",
       "      <td>NaN</td>\n",
       "    </tr>\n",
       "  </tbody>\n",
       "</table>\n",
       "</div>"
      ],
      "text/plain": [
       "   ID                      Name Sex   Age  Height  Weight            Team  \\\n",
       "0   1                 A Dijiang   M  24.0   180.0    80.0           China   \n",
       "1   2                  A Lamusi   M  23.0   170.0    60.0           China   \n",
       "2   3       Gunnar Nielsen Aaby   M  24.0     NaN     NaN         Denmark   \n",
       "3   4      Edgar Lindenau Aabye   M  34.0     NaN     NaN  Denmark/Sweden   \n",
       "4   5  Christine Jacoba Aaftink   F  21.0   185.0    82.0     Netherlands   \n",
       "5   5  Christine Jacoba Aaftink   F  21.0   185.0    82.0     Netherlands   \n",
       "6   5  Christine Jacoba Aaftink   F  25.0   185.0    82.0     Netherlands   \n",
       "7   5  Christine Jacoba Aaftink   F  25.0   185.0    82.0     Netherlands   \n",
       "8   5  Christine Jacoba Aaftink   F  27.0   185.0    82.0     Netherlands   \n",
       "9   5  Christine Jacoba Aaftink   F  27.0   185.0    82.0     Netherlands   \n",
       "\n",
       "   NOC        Games  Year  Season         City          Sport  \\\n",
       "0  CHN  1992 Summer  1992  Summer    Barcelona     Basketball   \n",
       "1  CHN  2012 Summer  2012  Summer       London           Judo   \n",
       "2  DEN  1920 Summer  1920  Summer    Antwerpen       Football   \n",
       "3  DEN  1900 Summer  1900  Summer        Paris     Tug-Of-War   \n",
       "4  NED  1988 Winter  1988  Winter      Calgary  Speed Skating   \n",
       "5  NED  1988 Winter  1988  Winter      Calgary  Speed Skating   \n",
       "6  NED  1992 Winter  1992  Winter  Albertville  Speed Skating   \n",
       "7  NED  1992 Winter  1992  Winter  Albertville  Speed Skating   \n",
       "8  NED  1994 Winter  1994  Winter  Lillehammer  Speed Skating   \n",
       "9  NED  1994 Winter  1994  Winter  Lillehammer  Speed Skating   \n",
       "\n",
       "                                Event Medal       region notes  \n",
       "0         Basketball Men's Basketball   NaN        China   NaN  \n",
       "1        Judo Men's Extra-Lightweight   NaN        China   NaN  \n",
       "2             Football Men's Football   NaN      Denmark   NaN  \n",
       "3         Tug-Of-War Men's Tug-Of-War  Gold      Denmark   NaN  \n",
       "4    Speed Skating Women's 500 metres   NaN  Netherlands   NaN  \n",
       "5  Speed Skating Women's 1,000 metres   NaN  Netherlands   NaN  \n",
       "6    Speed Skating Women's 500 metres   NaN  Netherlands   NaN  \n",
       "7  Speed Skating Women's 1,000 metres   NaN  Netherlands   NaN  \n",
       "8    Speed Skating Women's 500 metres   NaN  Netherlands   NaN  \n",
       "9  Speed Skating Women's 1,000 metres   NaN  Netherlands   NaN  "
      ]
     },
     "execution_count": 4,
     "metadata": {},
     "output_type": "execute_result"
    }
   ],
   "source": [
    "#joining the datasets\n",
    "#Horizontal joining\n",
    "df=atheltes.merge(region,how='left',on='NOC')\n",
    "df.head(10)"
   ]
  },
  {
   "cell_type": "markdown",
   "id": "f1da93c4",
   "metadata": {},
   "source": [
    "# Step - 4 : Applying Basic Functions"
   ]
  },
  {
   "cell_type": "code",
   "execution_count": 8,
   "id": "a78f2bc0",
   "metadata": {},
   "outputs": [
    {
     "data": {
      "text/html": [
       "<div>\n",
       "<style scoped>\n",
       "    .dataframe tbody tr th:only-of-type {\n",
       "        vertical-align: middle;\n",
       "    }\n",
       "\n",
       "    .dataframe tbody tr th {\n",
       "        vertical-align: top;\n",
       "    }\n",
       "\n",
       "    .dataframe thead th {\n",
       "        text-align: right;\n",
       "    }\n",
       "</style>\n",
       "<table border=\"1\" class=\"dataframe\">\n",
       "  <thead>\n",
       "    <tr style=\"text-align: right;\">\n",
       "      <th></th>\n",
       "      <th>ID</th>\n",
       "      <th>Name</th>\n",
       "      <th>Sex</th>\n",
       "      <th>Age</th>\n",
       "      <th>Height</th>\n",
       "      <th>Weight</th>\n",
       "      <th>Team</th>\n",
       "      <th>NOC</th>\n",
       "      <th>Games</th>\n",
       "      <th>Year</th>\n",
       "      <th>Season</th>\n",
       "      <th>City</th>\n",
       "      <th>Sport</th>\n",
       "      <th>Event</th>\n",
       "      <th>Medal</th>\n",
       "      <th>region</th>\n",
       "      <th>notes</th>\n",
       "    </tr>\n",
       "  </thead>\n",
       "  <tbody>\n",
       "    <tr>\n",
       "      <th>0</th>\n",
       "      <td>1</td>\n",
       "      <td>A Dijiang</td>\n",
       "      <td>M</td>\n",
       "      <td>24.0</td>\n",
       "      <td>180.0</td>\n",
       "      <td>80.0</td>\n",
       "      <td>China</td>\n",
       "      <td>CHN</td>\n",
       "      <td>1992 Summer</td>\n",
       "      <td>1992</td>\n",
       "      <td>Summer</td>\n",
       "      <td>Barcelona</td>\n",
       "      <td>Basketball</td>\n",
       "      <td>Basketball Men's Basketball</td>\n",
       "      <td>NaN</td>\n",
       "      <td>China</td>\n",
       "      <td>NaN</td>\n",
       "    </tr>\n",
       "    <tr>\n",
       "      <th>1</th>\n",
       "      <td>2</td>\n",
       "      <td>A Lamusi</td>\n",
       "      <td>M</td>\n",
       "      <td>23.0</td>\n",
       "      <td>170.0</td>\n",
       "      <td>60.0</td>\n",
       "      <td>China</td>\n",
       "      <td>CHN</td>\n",
       "      <td>2012 Summer</td>\n",
       "      <td>2012</td>\n",
       "      <td>Summer</td>\n",
       "      <td>London</td>\n",
       "      <td>Judo</td>\n",
       "      <td>Judo Men's Extra-Lightweight</td>\n",
       "      <td>NaN</td>\n",
       "      <td>China</td>\n",
       "      <td>NaN</td>\n",
       "    </tr>\n",
       "    <tr>\n",
       "      <th>2</th>\n",
       "      <td>3</td>\n",
       "      <td>Gunnar Nielsen Aaby</td>\n",
       "      <td>M</td>\n",
       "      <td>24.0</td>\n",
       "      <td>NaN</td>\n",
       "      <td>NaN</td>\n",
       "      <td>Denmark</td>\n",
       "      <td>DEN</td>\n",
       "      <td>1920 Summer</td>\n",
       "      <td>1920</td>\n",
       "      <td>Summer</td>\n",
       "      <td>Antwerpen</td>\n",
       "      <td>Football</td>\n",
       "      <td>Football Men's Football</td>\n",
       "      <td>NaN</td>\n",
       "      <td>Denmark</td>\n",
       "      <td>NaN</td>\n",
       "    </tr>\n",
       "    <tr>\n",
       "      <th>3</th>\n",
       "      <td>4</td>\n",
       "      <td>Edgar Lindenau Aabye</td>\n",
       "      <td>M</td>\n",
       "      <td>34.0</td>\n",
       "      <td>NaN</td>\n",
       "      <td>NaN</td>\n",
       "      <td>Denmark/Sweden</td>\n",
       "      <td>DEN</td>\n",
       "      <td>1900 Summer</td>\n",
       "      <td>1900</td>\n",
       "      <td>Summer</td>\n",
       "      <td>Paris</td>\n",
       "      <td>Tug-Of-War</td>\n",
       "      <td>Tug-Of-War Men's Tug-Of-War</td>\n",
       "      <td>Gold</td>\n",
       "      <td>Denmark</td>\n",
       "      <td>NaN</td>\n",
       "    </tr>\n",
       "    <tr>\n",
       "      <th>4</th>\n",
       "      <td>5</td>\n",
       "      <td>Christine Jacoba Aaftink</td>\n",
       "      <td>F</td>\n",
       "      <td>21.0</td>\n",
       "      <td>185.0</td>\n",
       "      <td>82.0</td>\n",
       "      <td>Netherlands</td>\n",
       "      <td>NED</td>\n",
       "      <td>1988 Winter</td>\n",
       "      <td>1988</td>\n",
       "      <td>Winter</td>\n",
       "      <td>Calgary</td>\n",
       "      <td>Speed Skating</td>\n",
       "      <td>Speed Skating Women's 500 metres</td>\n",
       "      <td>NaN</td>\n",
       "      <td>Netherlands</td>\n",
       "      <td>NaN</td>\n",
       "    </tr>\n",
       "    <tr>\n",
       "      <th>5</th>\n",
       "      <td>5</td>\n",
       "      <td>Christine Jacoba Aaftink</td>\n",
       "      <td>F</td>\n",
       "      <td>21.0</td>\n",
       "      <td>185.0</td>\n",
       "      <td>82.0</td>\n",
       "      <td>Netherlands</td>\n",
       "      <td>NED</td>\n",
       "      <td>1988 Winter</td>\n",
       "      <td>1988</td>\n",
       "      <td>Winter</td>\n",
       "      <td>Calgary</td>\n",
       "      <td>Speed Skating</td>\n",
       "      <td>Speed Skating Women's 1,000 metres</td>\n",
       "      <td>NaN</td>\n",
       "      <td>Netherlands</td>\n",
       "      <td>NaN</td>\n",
       "    </tr>\n",
       "    <tr>\n",
       "      <th>6</th>\n",
       "      <td>5</td>\n",
       "      <td>Christine Jacoba Aaftink</td>\n",
       "      <td>F</td>\n",
       "      <td>25.0</td>\n",
       "      <td>185.0</td>\n",
       "      <td>82.0</td>\n",
       "      <td>Netherlands</td>\n",
       "      <td>NED</td>\n",
       "      <td>1992 Winter</td>\n",
       "      <td>1992</td>\n",
       "      <td>Winter</td>\n",
       "      <td>Albertville</td>\n",
       "      <td>Speed Skating</td>\n",
       "      <td>Speed Skating Women's 500 metres</td>\n",
       "      <td>NaN</td>\n",
       "      <td>Netherlands</td>\n",
       "      <td>NaN</td>\n",
       "    </tr>\n",
       "    <tr>\n",
       "      <th>7</th>\n",
       "      <td>5</td>\n",
       "      <td>Christine Jacoba Aaftink</td>\n",
       "      <td>F</td>\n",
       "      <td>25.0</td>\n",
       "      <td>185.0</td>\n",
       "      <td>82.0</td>\n",
       "      <td>Netherlands</td>\n",
       "      <td>NED</td>\n",
       "      <td>1992 Winter</td>\n",
       "      <td>1992</td>\n",
       "      <td>Winter</td>\n",
       "      <td>Albertville</td>\n",
       "      <td>Speed Skating</td>\n",
       "      <td>Speed Skating Women's 1,000 metres</td>\n",
       "      <td>NaN</td>\n",
       "      <td>Netherlands</td>\n",
       "      <td>NaN</td>\n",
       "    </tr>\n",
       "    <tr>\n",
       "      <th>8</th>\n",
       "      <td>5</td>\n",
       "      <td>Christine Jacoba Aaftink</td>\n",
       "      <td>F</td>\n",
       "      <td>27.0</td>\n",
       "      <td>185.0</td>\n",
       "      <td>82.0</td>\n",
       "      <td>Netherlands</td>\n",
       "      <td>NED</td>\n",
       "      <td>1994 Winter</td>\n",
       "      <td>1994</td>\n",
       "      <td>Winter</td>\n",
       "      <td>Lillehammer</td>\n",
       "      <td>Speed Skating</td>\n",
       "      <td>Speed Skating Women's 500 metres</td>\n",
       "      <td>NaN</td>\n",
       "      <td>Netherlands</td>\n",
       "      <td>NaN</td>\n",
       "    </tr>\n",
       "    <tr>\n",
       "      <th>9</th>\n",
       "      <td>5</td>\n",
       "      <td>Christine Jacoba Aaftink</td>\n",
       "      <td>F</td>\n",
       "      <td>27.0</td>\n",
       "      <td>185.0</td>\n",
       "      <td>82.0</td>\n",
       "      <td>Netherlands</td>\n",
       "      <td>NED</td>\n",
       "      <td>1994 Winter</td>\n",
       "      <td>1994</td>\n",
       "      <td>Winter</td>\n",
       "      <td>Lillehammer</td>\n",
       "      <td>Speed Skating</td>\n",
       "      <td>Speed Skating Women's 1,000 metres</td>\n",
       "      <td>NaN</td>\n",
       "      <td>Netherlands</td>\n",
       "      <td>NaN</td>\n",
       "    </tr>\n",
       "  </tbody>\n",
       "</table>\n",
       "</div>"
      ],
      "text/plain": [
       "   ID                      Name Sex   Age  Height  Weight            Team  \\\n",
       "0   1                 A Dijiang   M  24.0   180.0    80.0           China   \n",
       "1   2                  A Lamusi   M  23.0   170.0    60.0           China   \n",
       "2   3       Gunnar Nielsen Aaby   M  24.0     NaN     NaN         Denmark   \n",
       "3   4      Edgar Lindenau Aabye   M  34.0     NaN     NaN  Denmark/Sweden   \n",
       "4   5  Christine Jacoba Aaftink   F  21.0   185.0    82.0     Netherlands   \n",
       "5   5  Christine Jacoba Aaftink   F  21.0   185.0    82.0     Netherlands   \n",
       "6   5  Christine Jacoba Aaftink   F  25.0   185.0    82.0     Netherlands   \n",
       "7   5  Christine Jacoba Aaftink   F  25.0   185.0    82.0     Netherlands   \n",
       "8   5  Christine Jacoba Aaftink   F  27.0   185.0    82.0     Netherlands   \n",
       "9   5  Christine Jacoba Aaftink   F  27.0   185.0    82.0     Netherlands   \n",
       "\n",
       "   NOC        Games  Year  Season         City          Sport  \\\n",
       "0  CHN  1992 Summer  1992  Summer    Barcelona     Basketball   \n",
       "1  CHN  2012 Summer  2012  Summer       London           Judo   \n",
       "2  DEN  1920 Summer  1920  Summer    Antwerpen       Football   \n",
       "3  DEN  1900 Summer  1900  Summer        Paris     Tug-Of-War   \n",
       "4  NED  1988 Winter  1988  Winter      Calgary  Speed Skating   \n",
       "5  NED  1988 Winter  1988  Winter      Calgary  Speed Skating   \n",
       "6  NED  1992 Winter  1992  Winter  Albertville  Speed Skating   \n",
       "7  NED  1992 Winter  1992  Winter  Albertville  Speed Skating   \n",
       "8  NED  1994 Winter  1994  Winter  Lillehammer  Speed Skating   \n",
       "9  NED  1994 Winter  1994  Winter  Lillehammer  Speed Skating   \n",
       "\n",
       "                                Event Medal       region notes  \n",
       "0         Basketball Men's Basketball   NaN        China   NaN  \n",
       "1        Judo Men's Extra-Lightweight   NaN        China   NaN  \n",
       "2             Football Men's Football   NaN      Denmark   NaN  \n",
       "3         Tug-Of-War Men's Tug-Of-War  Gold      Denmark   NaN  \n",
       "4    Speed Skating Women's 500 metres   NaN  Netherlands   NaN  \n",
       "5  Speed Skating Women's 1,000 metres   NaN  Netherlands   NaN  \n",
       "6    Speed Skating Women's 500 metres   NaN  Netherlands   NaN  \n",
       "7  Speed Skating Women's 1,000 metres   NaN  Netherlands   NaN  \n",
       "8    Speed Skating Women's 500 metres   NaN  Netherlands   NaN  \n",
       "9  Speed Skating Women's 1,000 metres   NaN  Netherlands   NaN  "
      ]
     },
     "execution_count": 8,
     "metadata": {},
     "output_type": "execute_result"
    }
   ],
   "source": [
    "df.head(10)"
   ]
  },
  {
   "cell_type": "code",
   "execution_count": 9,
   "id": "9ad6a60b",
   "metadata": {},
   "outputs": [
    {
     "data": {
      "text/plain": [
       "(271116, 17)"
      ]
     },
     "execution_count": 9,
     "metadata": {},
     "output_type": "execute_result"
    }
   ],
   "source": [
    "#no.of rows and columns\n",
    "df.shape"
   ]
  },
  {
   "cell_type": "code",
   "execution_count": 10,
   "id": "bd42854b",
   "metadata": {},
   "outputs": [
    {
     "data": {
      "text/plain": [
       "Index(['ID', 'Name', 'Sex', 'Age', 'Height', 'Weight', 'Team', 'NOC', 'Games',\n",
       "       'Year', 'Season', 'City', 'Sport', 'Event', 'Medal', 'region', 'notes'],\n",
       "      dtype='object')"
      ]
     },
     "execution_count": 10,
     "metadata": {},
     "output_type": "execute_result"
    }
   ],
   "source": [
    "df.columns"
   ]
  },
  {
   "cell_type": "markdown",
   "id": "bceb30f3",
   "metadata": {},
   "source": [
    "### Renaming Region and Notes columns"
   ]
  },
  {
   "cell_type": "code",
   "execution_count": 11,
   "id": "a4970d27",
   "metadata": {},
   "outputs": [
    {
     "data": {
      "text/html": [
       "<div>\n",
       "<style scoped>\n",
       "    .dataframe tbody tr th:only-of-type {\n",
       "        vertical-align: middle;\n",
       "    }\n",
       "\n",
       "    .dataframe tbody tr th {\n",
       "        vertical-align: top;\n",
       "    }\n",
       "\n",
       "    .dataframe thead th {\n",
       "        text-align: right;\n",
       "    }\n",
       "</style>\n",
       "<table border=\"1\" class=\"dataframe\">\n",
       "  <thead>\n",
       "    <tr style=\"text-align: right;\">\n",
       "      <th></th>\n",
       "      <th>ID</th>\n",
       "      <th>Name</th>\n",
       "      <th>Sex</th>\n",
       "      <th>Age</th>\n",
       "      <th>Height</th>\n",
       "      <th>Weight</th>\n",
       "      <th>Team</th>\n",
       "      <th>NOC</th>\n",
       "      <th>Games</th>\n",
       "      <th>Year</th>\n",
       "      <th>Season</th>\n",
       "      <th>City</th>\n",
       "      <th>Sport</th>\n",
       "      <th>Event</th>\n",
       "      <th>Medal</th>\n",
       "      <th>Region</th>\n",
       "      <th>Notes</th>\n",
       "    </tr>\n",
       "  </thead>\n",
       "  <tbody>\n",
       "    <tr>\n",
       "      <th>0</th>\n",
       "      <td>1</td>\n",
       "      <td>A Dijiang</td>\n",
       "      <td>M</td>\n",
       "      <td>24.0</td>\n",
       "      <td>180.0</td>\n",
       "      <td>80.0</td>\n",
       "      <td>China</td>\n",
       "      <td>CHN</td>\n",
       "      <td>1992 Summer</td>\n",
       "      <td>1992</td>\n",
       "      <td>Summer</td>\n",
       "      <td>Barcelona</td>\n",
       "      <td>Basketball</td>\n",
       "      <td>Basketball Men's Basketball</td>\n",
       "      <td>NaN</td>\n",
       "      <td>China</td>\n",
       "      <td>NaN</td>\n",
       "    </tr>\n",
       "    <tr>\n",
       "      <th>1</th>\n",
       "      <td>2</td>\n",
       "      <td>A Lamusi</td>\n",
       "      <td>M</td>\n",
       "      <td>23.0</td>\n",
       "      <td>170.0</td>\n",
       "      <td>60.0</td>\n",
       "      <td>China</td>\n",
       "      <td>CHN</td>\n",
       "      <td>2012 Summer</td>\n",
       "      <td>2012</td>\n",
       "      <td>Summer</td>\n",
       "      <td>London</td>\n",
       "      <td>Judo</td>\n",
       "      <td>Judo Men's Extra-Lightweight</td>\n",
       "      <td>NaN</td>\n",
       "      <td>China</td>\n",
       "      <td>NaN</td>\n",
       "    </tr>\n",
       "    <tr>\n",
       "      <th>2</th>\n",
       "      <td>3</td>\n",
       "      <td>Gunnar Nielsen Aaby</td>\n",
       "      <td>M</td>\n",
       "      <td>24.0</td>\n",
       "      <td>NaN</td>\n",
       "      <td>NaN</td>\n",
       "      <td>Denmark</td>\n",
       "      <td>DEN</td>\n",
       "      <td>1920 Summer</td>\n",
       "      <td>1920</td>\n",
       "      <td>Summer</td>\n",
       "      <td>Antwerpen</td>\n",
       "      <td>Football</td>\n",
       "      <td>Football Men's Football</td>\n",
       "      <td>NaN</td>\n",
       "      <td>Denmark</td>\n",
       "      <td>NaN</td>\n",
       "    </tr>\n",
       "    <tr>\n",
       "      <th>3</th>\n",
       "      <td>4</td>\n",
       "      <td>Edgar Lindenau Aabye</td>\n",
       "      <td>M</td>\n",
       "      <td>34.0</td>\n",
       "      <td>NaN</td>\n",
       "      <td>NaN</td>\n",
       "      <td>Denmark/Sweden</td>\n",
       "      <td>DEN</td>\n",
       "      <td>1900 Summer</td>\n",
       "      <td>1900</td>\n",
       "      <td>Summer</td>\n",
       "      <td>Paris</td>\n",
       "      <td>Tug-Of-War</td>\n",
       "      <td>Tug-Of-War Men's Tug-Of-War</td>\n",
       "      <td>Gold</td>\n",
       "      <td>Denmark</td>\n",
       "      <td>NaN</td>\n",
       "    </tr>\n",
       "    <tr>\n",
       "      <th>4</th>\n",
       "      <td>5</td>\n",
       "      <td>Christine Jacoba Aaftink</td>\n",
       "      <td>F</td>\n",
       "      <td>21.0</td>\n",
       "      <td>185.0</td>\n",
       "      <td>82.0</td>\n",
       "      <td>Netherlands</td>\n",
       "      <td>NED</td>\n",
       "      <td>1988 Winter</td>\n",
       "      <td>1988</td>\n",
       "      <td>Winter</td>\n",
       "      <td>Calgary</td>\n",
       "      <td>Speed Skating</td>\n",
       "      <td>Speed Skating Women's 500 metres</td>\n",
       "      <td>NaN</td>\n",
       "      <td>Netherlands</td>\n",
       "      <td>NaN</td>\n",
       "    </tr>\n",
       "    <tr>\n",
       "      <th>...</th>\n",
       "      <td>...</td>\n",
       "      <td>...</td>\n",
       "      <td>...</td>\n",
       "      <td>...</td>\n",
       "      <td>...</td>\n",
       "      <td>...</td>\n",
       "      <td>...</td>\n",
       "      <td>...</td>\n",
       "      <td>...</td>\n",
       "      <td>...</td>\n",
       "      <td>...</td>\n",
       "      <td>...</td>\n",
       "      <td>...</td>\n",
       "      <td>...</td>\n",
       "      <td>...</td>\n",
       "      <td>...</td>\n",
       "      <td>...</td>\n",
       "    </tr>\n",
       "    <tr>\n",
       "      <th>271111</th>\n",
       "      <td>135569</td>\n",
       "      <td>Andrzej ya</td>\n",
       "      <td>M</td>\n",
       "      <td>29.0</td>\n",
       "      <td>179.0</td>\n",
       "      <td>89.0</td>\n",
       "      <td>Poland-1</td>\n",
       "      <td>POL</td>\n",
       "      <td>1976 Winter</td>\n",
       "      <td>1976</td>\n",
       "      <td>Winter</td>\n",
       "      <td>Innsbruck</td>\n",
       "      <td>Luge</td>\n",
       "      <td>Luge Mixed (Men)'s Doubles</td>\n",
       "      <td>NaN</td>\n",
       "      <td>Poland</td>\n",
       "      <td>NaN</td>\n",
       "    </tr>\n",
       "    <tr>\n",
       "      <th>271112</th>\n",
       "      <td>135570</td>\n",
       "      <td>Piotr ya</td>\n",
       "      <td>M</td>\n",
       "      <td>27.0</td>\n",
       "      <td>176.0</td>\n",
       "      <td>59.0</td>\n",
       "      <td>Poland</td>\n",
       "      <td>POL</td>\n",
       "      <td>2014 Winter</td>\n",
       "      <td>2014</td>\n",
       "      <td>Winter</td>\n",
       "      <td>Sochi</td>\n",
       "      <td>Ski Jumping</td>\n",
       "      <td>Ski Jumping Men's Large Hill, Individual</td>\n",
       "      <td>NaN</td>\n",
       "      <td>Poland</td>\n",
       "      <td>NaN</td>\n",
       "    </tr>\n",
       "    <tr>\n",
       "      <th>271113</th>\n",
       "      <td>135570</td>\n",
       "      <td>Piotr ya</td>\n",
       "      <td>M</td>\n",
       "      <td>27.0</td>\n",
       "      <td>176.0</td>\n",
       "      <td>59.0</td>\n",
       "      <td>Poland</td>\n",
       "      <td>POL</td>\n",
       "      <td>2014 Winter</td>\n",
       "      <td>2014</td>\n",
       "      <td>Winter</td>\n",
       "      <td>Sochi</td>\n",
       "      <td>Ski Jumping</td>\n",
       "      <td>Ski Jumping Men's Large Hill, Team</td>\n",
       "      <td>NaN</td>\n",
       "      <td>Poland</td>\n",
       "      <td>NaN</td>\n",
       "    </tr>\n",
       "    <tr>\n",
       "      <th>271114</th>\n",
       "      <td>135571</td>\n",
       "      <td>Tomasz Ireneusz ya</td>\n",
       "      <td>M</td>\n",
       "      <td>30.0</td>\n",
       "      <td>185.0</td>\n",
       "      <td>96.0</td>\n",
       "      <td>Poland</td>\n",
       "      <td>POL</td>\n",
       "      <td>1998 Winter</td>\n",
       "      <td>1998</td>\n",
       "      <td>Winter</td>\n",
       "      <td>Nagano</td>\n",
       "      <td>Bobsleigh</td>\n",
       "      <td>Bobsleigh Men's Four</td>\n",
       "      <td>NaN</td>\n",
       "      <td>Poland</td>\n",
       "      <td>NaN</td>\n",
       "    </tr>\n",
       "    <tr>\n",
       "      <th>271115</th>\n",
       "      <td>135571</td>\n",
       "      <td>Tomasz Ireneusz ya</td>\n",
       "      <td>M</td>\n",
       "      <td>34.0</td>\n",
       "      <td>185.0</td>\n",
       "      <td>96.0</td>\n",
       "      <td>Poland</td>\n",
       "      <td>POL</td>\n",
       "      <td>2002 Winter</td>\n",
       "      <td>2002</td>\n",
       "      <td>Winter</td>\n",
       "      <td>Salt Lake City</td>\n",
       "      <td>Bobsleigh</td>\n",
       "      <td>Bobsleigh Men's Four</td>\n",
       "      <td>NaN</td>\n",
       "      <td>Poland</td>\n",
       "      <td>NaN</td>\n",
       "    </tr>\n",
       "  </tbody>\n",
       "</table>\n",
       "<p>271116 rows × 17 columns</p>\n",
       "</div>"
      ],
      "text/plain": [
       "            ID                      Name Sex   Age  Height  Weight  \\\n",
       "0            1                 A Dijiang   M  24.0   180.0    80.0   \n",
       "1            2                  A Lamusi   M  23.0   170.0    60.0   \n",
       "2            3       Gunnar Nielsen Aaby   M  24.0     NaN     NaN   \n",
       "3            4      Edgar Lindenau Aabye   M  34.0     NaN     NaN   \n",
       "4            5  Christine Jacoba Aaftink   F  21.0   185.0    82.0   \n",
       "...        ...                       ...  ..   ...     ...     ...   \n",
       "271111  135569                Andrzej ya   M  29.0   179.0    89.0   \n",
       "271112  135570                  Piotr ya   M  27.0   176.0    59.0   \n",
       "271113  135570                  Piotr ya   M  27.0   176.0    59.0   \n",
       "271114  135571        Tomasz Ireneusz ya   M  30.0   185.0    96.0   \n",
       "271115  135571        Tomasz Ireneusz ya   M  34.0   185.0    96.0   \n",
       "\n",
       "                  Team  NOC        Games  Year  Season            City  \\\n",
       "0                China  CHN  1992 Summer  1992  Summer       Barcelona   \n",
       "1                China  CHN  2012 Summer  2012  Summer          London   \n",
       "2              Denmark  DEN  1920 Summer  1920  Summer       Antwerpen   \n",
       "3       Denmark/Sweden  DEN  1900 Summer  1900  Summer           Paris   \n",
       "4          Netherlands  NED  1988 Winter  1988  Winter         Calgary   \n",
       "...                ...  ...          ...   ...     ...             ...   \n",
       "271111        Poland-1  POL  1976 Winter  1976  Winter       Innsbruck   \n",
       "271112          Poland  POL  2014 Winter  2014  Winter           Sochi   \n",
       "271113          Poland  POL  2014 Winter  2014  Winter           Sochi   \n",
       "271114          Poland  POL  1998 Winter  1998  Winter          Nagano   \n",
       "271115          Poland  POL  2002 Winter  2002  Winter  Salt Lake City   \n",
       "\n",
       "                Sport                                     Event Medal  \\\n",
       "0          Basketball               Basketball Men's Basketball   NaN   \n",
       "1                Judo              Judo Men's Extra-Lightweight   NaN   \n",
       "2            Football                   Football Men's Football   NaN   \n",
       "3          Tug-Of-War               Tug-Of-War Men's Tug-Of-War  Gold   \n",
       "4       Speed Skating          Speed Skating Women's 500 metres   NaN   \n",
       "...               ...                                       ...   ...   \n",
       "271111           Luge                Luge Mixed (Men)'s Doubles   NaN   \n",
       "271112    Ski Jumping  Ski Jumping Men's Large Hill, Individual   NaN   \n",
       "271113    Ski Jumping        Ski Jumping Men's Large Hill, Team   NaN   \n",
       "271114      Bobsleigh                      Bobsleigh Men's Four   NaN   \n",
       "271115      Bobsleigh                      Bobsleigh Men's Four   NaN   \n",
       "\n",
       "             Region Notes  \n",
       "0             China   NaN  \n",
       "1             China   NaN  \n",
       "2           Denmark   NaN  \n",
       "3           Denmark   NaN  \n",
       "4       Netherlands   NaN  \n",
       "...             ...   ...  \n",
       "271111       Poland   NaN  \n",
       "271112       Poland   NaN  \n",
       "271113       Poland   NaN  \n",
       "271114       Poland   NaN  \n",
       "271115       Poland   NaN  \n",
       "\n",
       "[271116 rows x 17 columns]"
      ]
     },
     "execution_count": 11,
     "metadata": {},
     "output_type": "execute_result"
    }
   ],
   "source": [
    "df.rename(columns={'region':'Region','notes':'Notes'},inplace=True)\n",
    "df"
   ]
  },
  {
   "cell_type": "code",
   "execution_count": 12,
   "id": "6e7fc22f",
   "metadata": {},
   "outputs": [
    {
     "name": "stdout",
     "output_type": "stream",
     "text": [
      "<class 'pandas.core.frame.DataFrame'>\n",
      "Int64Index: 271116 entries, 0 to 271115\n",
      "Data columns (total 17 columns):\n",
      " #   Column  Non-Null Count   Dtype  \n",
      "---  ------  --------------   -----  \n",
      " 0   ID      271116 non-null  int64  \n",
      " 1   Name    271116 non-null  object \n",
      " 2   Sex     271116 non-null  object \n",
      " 3   Age     261642 non-null  float64\n",
      " 4   Height  210945 non-null  float64\n",
      " 5   Weight  208241 non-null  float64\n",
      " 6   Team    271116 non-null  object \n",
      " 7   NOC     271116 non-null  object \n",
      " 8   Games   271116 non-null  object \n",
      " 9   Year    271116 non-null  int64  \n",
      " 10  Season  271116 non-null  object \n",
      " 11  City    271116 non-null  object \n",
      " 12  Sport   271116 non-null  object \n",
      " 13  Event   271116 non-null  object \n",
      " 14  Medal   39783 non-null   object \n",
      " 15  Region  270746 non-null  object \n",
      " 16  Notes   5039 non-null    object \n",
      "dtypes: float64(3), int64(2), object(12)\n",
      "memory usage: 37.2+ MB\n"
     ]
    }
   ],
   "source": [
    "df.info()"
   ]
  },
  {
   "cell_type": "code",
   "execution_count": 13,
   "id": "d21454c5",
   "metadata": {},
   "outputs": [
    {
     "data": {
      "text/html": [
       "<div>\n",
       "<style scoped>\n",
       "    .dataframe tbody tr th:only-of-type {\n",
       "        vertical-align: middle;\n",
       "    }\n",
       "\n",
       "    .dataframe tbody tr th {\n",
       "        vertical-align: top;\n",
       "    }\n",
       "\n",
       "    .dataframe thead th {\n",
       "        text-align: right;\n",
       "    }\n",
       "</style>\n",
       "<table border=\"1\" class=\"dataframe\">\n",
       "  <thead>\n",
       "    <tr style=\"text-align: right;\">\n",
       "      <th></th>\n",
       "      <th>ID</th>\n",
       "      <th>Age</th>\n",
       "      <th>Height</th>\n",
       "      <th>Weight</th>\n",
       "      <th>Year</th>\n",
       "    </tr>\n",
       "  </thead>\n",
       "  <tbody>\n",
       "    <tr>\n",
       "      <th>count</th>\n",
       "      <td>271116.000000</td>\n",
       "      <td>261642.000000</td>\n",
       "      <td>210945.000000</td>\n",
       "      <td>208241.000000</td>\n",
       "      <td>271116.000000</td>\n",
       "    </tr>\n",
       "    <tr>\n",
       "      <th>mean</th>\n",
       "      <td>68248.954396</td>\n",
       "      <td>25.556898</td>\n",
       "      <td>175.338970</td>\n",
       "      <td>70.702393</td>\n",
       "      <td>1978.378480</td>\n",
       "    </tr>\n",
       "    <tr>\n",
       "      <th>std</th>\n",
       "      <td>39022.286345</td>\n",
       "      <td>6.393561</td>\n",
       "      <td>10.518462</td>\n",
       "      <td>14.348020</td>\n",
       "      <td>29.877632</td>\n",
       "    </tr>\n",
       "    <tr>\n",
       "      <th>min</th>\n",
       "      <td>1.000000</td>\n",
       "      <td>10.000000</td>\n",
       "      <td>127.000000</td>\n",
       "      <td>25.000000</td>\n",
       "      <td>1896.000000</td>\n",
       "    </tr>\n",
       "    <tr>\n",
       "      <th>25%</th>\n",
       "      <td>34643.000000</td>\n",
       "      <td>21.000000</td>\n",
       "      <td>168.000000</td>\n",
       "      <td>60.000000</td>\n",
       "      <td>1960.000000</td>\n",
       "    </tr>\n",
       "    <tr>\n",
       "      <th>50%</th>\n",
       "      <td>68205.000000</td>\n",
       "      <td>24.000000</td>\n",
       "      <td>175.000000</td>\n",
       "      <td>70.000000</td>\n",
       "      <td>1988.000000</td>\n",
       "    </tr>\n",
       "    <tr>\n",
       "      <th>75%</th>\n",
       "      <td>102097.250000</td>\n",
       "      <td>28.000000</td>\n",
       "      <td>183.000000</td>\n",
       "      <td>79.000000</td>\n",
       "      <td>2002.000000</td>\n",
       "    </tr>\n",
       "    <tr>\n",
       "      <th>max</th>\n",
       "      <td>135571.000000</td>\n",
       "      <td>97.000000</td>\n",
       "      <td>226.000000</td>\n",
       "      <td>214.000000</td>\n",
       "      <td>2016.000000</td>\n",
       "    </tr>\n",
       "  </tbody>\n",
       "</table>\n",
       "</div>"
      ],
      "text/plain": [
       "                  ID            Age         Height         Weight  \\\n",
       "count  271116.000000  261642.000000  210945.000000  208241.000000   \n",
       "mean    68248.954396      25.556898     175.338970      70.702393   \n",
       "std     39022.286345       6.393561      10.518462      14.348020   \n",
       "min         1.000000      10.000000     127.000000      25.000000   \n",
       "25%     34643.000000      21.000000     168.000000      60.000000   \n",
       "50%     68205.000000      24.000000     175.000000      70.000000   \n",
       "75%    102097.250000      28.000000     183.000000      79.000000   \n",
       "max    135571.000000      97.000000     226.000000     214.000000   \n",
       "\n",
       "                Year  \n",
       "count  271116.000000  \n",
       "mean     1978.378480  \n",
       "std        29.877632  \n",
       "min      1896.000000  \n",
       "25%      1960.000000  \n",
       "50%      1988.000000  \n",
       "75%      2002.000000  \n",
       "max      2016.000000  "
      ]
     },
     "execution_count": 13,
     "metadata": {},
     "output_type": "execute_result"
    }
   ],
   "source": [
    "df.describe()"
   ]
  },
  {
   "cell_type": "markdown",
   "id": "c44f621d",
   "metadata": {},
   "source": [
    "### Participant Count by Country in the Dataset"
   ]
  },
  {
   "cell_type": "code",
   "execution_count": 14,
   "id": "06e0eb96",
   "metadata": {},
   "outputs": [
    {
     "data": {
      "text/plain": [
       "United States    17847\n",
       "France           11988\n",
       "Great Britain    11404\n",
       "Italy            10260\n",
       "Germany           9326\n",
       "                 ...  \n",
       "Briar                1\n",
       "Hannover             1\n",
       "Nan-2                1\n",
       "Brentina             1\n",
       "Digby                1\n",
       "Name: Team, Length: 1184, dtype: int64"
      ]
     },
     "execution_count": 14,
     "metadata": {},
     "output_type": "execute_result"
    }
   ],
   "source": [
    "df['Team'].value_counts()"
   ]
  },
  {
   "cell_type": "markdown",
   "id": "68d93573",
   "metadata": {},
   "source": [
    "### Top 5 Most Common Names in the Dataset"
   ]
  },
  {
   "cell_type": "code",
   "execution_count": 15,
   "id": "4e7bab40",
   "metadata": {},
   "outputs": [
    {
     "data": {
      "text/plain": [
       "Robert Tait McKenzie        58\n",
       "Heikki Ilmari Savolainen    39\n",
       "Joseph \"Josy\" Stoffel       38\n",
       "Ioannis Theofilakis         36\n",
       "Takashi Ono                 33\n",
       "Name: Name, dtype: int64"
      ]
     },
     "execution_count": 15,
     "metadata": {},
     "output_type": "execute_result"
    }
   ],
   "source": [
    "df['Name'].value_counts().head(5)"
   ]
  },
  {
   "cell_type": "markdown",
   "id": "23765743",
   "metadata": {},
   "source": [
    "# Step - 5 : Handling the Null Values"
   ]
  },
  {
   "cell_type": "code",
   "execution_count": 16,
   "id": "5bbbf2d5",
   "metadata": {},
   "outputs": [
    {
     "data": {
      "text/plain": [
       "ID             0\n",
       "Name           0\n",
       "Sex            0\n",
       "Age         9474\n",
       "Height     60171\n",
       "Weight     62875\n",
       "Team           0\n",
       "NOC            0\n",
       "Games          0\n",
       "Year           0\n",
       "Season         0\n",
       "City           0\n",
       "Sport          0\n",
       "Event          0\n",
       "Medal     231333\n",
       "Region       370\n",
       "Notes     266077\n",
       "dtype: int64"
      ]
     },
     "execution_count": 16,
     "metadata": {},
     "output_type": "execute_result"
    }
   ],
   "source": [
    "#Null values\n",
    "df.isnull().sum()"
   ]
  },
  {
   "cell_type": "markdown",
   "id": "37b4b4f8",
   "metadata": {},
   "source": [
    "## Handaling the Medal column null values"
   ]
  },
  {
   "cell_type": "code",
   "execution_count": 6,
   "id": "d01abe53",
   "metadata": {},
   "outputs": [
    {
     "data": {
      "text/plain": [
       "ID             0\n",
       "Name           0\n",
       "Sex            0\n",
       "Age         9474\n",
       "Height     60171\n",
       "Weight     62875\n",
       "Team           0\n",
       "NOC            0\n",
       "Games          0\n",
       "Year           0\n",
       "Season         0\n",
       "City           0\n",
       "Sport          0\n",
       "Event          0\n",
       "Medal          0\n",
       "region       370\n",
       "notes     266077\n",
       "dtype: int64"
      ]
     },
     "execution_count": 6,
     "metadata": {},
     "output_type": "execute_result"
    }
   ],
   "source": [
    "df['Medal'].fillna('Not Won',inplace=True)\n",
    "df.isnull().sum()"
   ]
  },
  {
   "cell_type": "markdown",
   "id": "0303dfee",
   "metadata": {},
   "source": [
    "## Handling the Region and Notes columns null values"
   ]
  },
  {
   "cell_type": "code",
   "execution_count": 18,
   "id": "4fdf0f29",
   "metadata": {},
   "outputs": [
    {
     "data": {
      "text/plain": [
       "ID            0\n",
       "Name          0\n",
       "Sex           0\n",
       "Age        9474\n",
       "Height    60171\n",
       "Weight    62875\n",
       "Team          0\n",
       "NOC           0\n",
       "Games         0\n",
       "Year          0\n",
       "Season        0\n",
       "City          0\n",
       "Sport         0\n",
       "Event         0\n",
       "Medal         0\n",
       "Region        0\n",
       "Notes         0\n",
       "dtype: int64"
      ]
     },
     "execution_count": 18,
     "metadata": {},
     "output_type": "execute_result"
    }
   ],
   "source": [
    "df.fillna({'Region':'Unavailable','Notes':'Unavaliable'},inplace=True)\n",
    "df.isnull().sum()"
   ]
  },
  {
   "cell_type": "markdown",
   "id": "92d3d060",
   "metadata": {},
   "source": [
    "## Handling Age column null values"
   ]
  },
  {
   "cell_type": "code",
   "execution_count": 19,
   "id": "45490a86",
   "metadata": {},
   "outputs": [
    {
     "data": {
      "text/plain": [
       "25.556898357297374"
      ]
     },
     "execution_count": 19,
     "metadata": {},
     "output_type": "execute_result"
    }
   ],
   "source": [
    "df['Age'].mean()"
   ]
  },
  {
   "cell_type": "code",
   "execution_count": 20,
   "id": "16b6832d",
   "metadata": {},
   "outputs": [
    {
     "data": {
      "text/plain": [
       "ID            0\n",
       "Name          0\n",
       "Sex           0\n",
       "Age           0\n",
       "Height    60171\n",
       "Weight    62875\n",
       "Team          0\n",
       "NOC           0\n",
       "Games         0\n",
       "Year          0\n",
       "Season        0\n",
       "City          0\n",
       "Sport         0\n",
       "Event         0\n",
       "Medal         0\n",
       "Region        0\n",
       "Notes         0\n",
       "dtype: int64"
      ]
     },
     "execution_count": 20,
     "metadata": {},
     "output_type": "execute_result"
    }
   ],
   "source": [
    "df['Age'].fillna(25.0,inplace=True)\n",
    "df.isnull().sum()"
   ]
  },
  {
   "cell_type": "markdown",
   "id": "ed89b01f",
   "metadata": {},
   "source": [
    "## Handling the Height column null values "
   ]
  },
  {
   "cell_type": "code",
   "execution_count": 21,
   "id": "5288e737",
   "metadata": {},
   "outputs": [
    {
     "data": {
      "text/plain": [
       "175.33896987366376"
      ]
     },
     "execution_count": 21,
     "metadata": {},
     "output_type": "execute_result"
    }
   ],
   "source": [
    "df['Height'].mean()"
   ]
  },
  {
   "cell_type": "code",
   "execution_count": 22,
   "id": "50a2a1e9",
   "metadata": {},
   "outputs": [
    {
     "data": {
      "text/plain": [
       "ID            0\n",
       "Name          0\n",
       "Sex           0\n",
       "Age           0\n",
       "Height        0\n",
       "Weight    62875\n",
       "Team          0\n",
       "NOC           0\n",
       "Games         0\n",
       "Year          0\n",
       "Season        0\n",
       "City          0\n",
       "Sport         0\n",
       "Event         0\n",
       "Medal         0\n",
       "Region        0\n",
       "Notes         0\n",
       "dtype: int64"
      ]
     },
     "execution_count": 22,
     "metadata": {},
     "output_type": "execute_result"
    }
   ],
   "source": [
    "df['Height'].fillna(176.3,inplace=True)\n",
    "df.isnull().sum()"
   ]
  },
  {
   "cell_type": "markdown",
   "id": "63dd1c14",
   "metadata": {},
   "source": [
    "## Handling the Weight column null values"
   ]
  },
  {
   "cell_type": "code",
   "execution_count": 23,
   "id": "d2bde66f",
   "metadata": {},
   "outputs": [
    {
     "data": {
      "text/plain": [
       "70.70239290053351"
      ]
     },
     "execution_count": 23,
     "metadata": {},
     "output_type": "execute_result"
    }
   ],
   "source": [
    "df['Weight'].mean()"
   ]
  },
  {
   "cell_type": "code",
   "execution_count": 24,
   "id": "88bbbc5b",
   "metadata": {},
   "outputs": [
    {
     "data": {
      "text/plain": [
       "ID        0\n",
       "Name      0\n",
       "Sex       0\n",
       "Age       0\n",
       "Height    0\n",
       "Weight    0\n",
       "Team      0\n",
       "NOC       0\n",
       "Games     0\n",
       "Year      0\n",
       "Season    0\n",
       "City      0\n",
       "Sport     0\n",
       "Event     0\n",
       "Medal     0\n",
       "Region    0\n",
       "Notes     0\n",
       "dtype: int64"
      ]
     },
     "execution_count": 24,
     "metadata": {},
     "output_type": "execute_result"
    }
   ],
   "source": [
    "df['Weight'].fillna(70.7,inplace=True)\n",
    "df.isnull().sum()"
   ]
  },
  {
   "cell_type": "markdown",
   "id": "a36bae3b",
   "metadata": {},
   "source": [
    "# Step - 6 : Data Visualization for Indian Athletes "
   ]
  },
  {
   "cell_type": "code",
   "execution_count": 25,
   "id": "d9b27299",
   "metadata": {},
   "outputs": [
    {
     "data": {
      "text/html": [
       "<div>\n",
       "<style scoped>\n",
       "    .dataframe tbody tr th:only-of-type {\n",
       "        vertical-align: middle;\n",
       "    }\n",
       "\n",
       "    .dataframe tbody tr th {\n",
       "        vertical-align: top;\n",
       "    }\n",
       "\n",
       "    .dataframe thead th {\n",
       "        text-align: right;\n",
       "    }\n",
       "</style>\n",
       "<table border=\"1\" class=\"dataframe\">\n",
       "  <thead>\n",
       "    <tr style=\"text-align: right;\">\n",
       "      <th></th>\n",
       "      <th>ID</th>\n",
       "      <th>Name</th>\n",
       "      <th>Sex</th>\n",
       "      <th>Age</th>\n",
       "      <th>Height</th>\n",
       "      <th>Weight</th>\n",
       "      <th>Team</th>\n",
       "      <th>NOC</th>\n",
       "      <th>Games</th>\n",
       "      <th>Year</th>\n",
       "      <th>Season</th>\n",
       "      <th>City</th>\n",
       "      <th>Sport</th>\n",
       "      <th>Event</th>\n",
       "      <th>Medal</th>\n",
       "      <th>Region</th>\n",
       "      <th>Notes</th>\n",
       "    </tr>\n",
       "  </thead>\n",
       "  <tbody>\n",
       "    <tr>\n",
       "      <th>505</th>\n",
       "      <td>281</td>\n",
       "      <td>S. Abdul Hamid</td>\n",
       "      <td>M</td>\n",
       "      <td>25.0</td>\n",
       "      <td>176.3</td>\n",
       "      <td>70.7</td>\n",
       "      <td>India</td>\n",
       "      <td>IND</td>\n",
       "      <td>1928 Summer</td>\n",
       "      <td>1928</td>\n",
       "      <td>Summer</td>\n",
       "      <td>Amsterdam</td>\n",
       "      <td>Athletics</td>\n",
       "      <td>Athletics Men's 110 metres Hurdles</td>\n",
       "      <td>Not Won</td>\n",
       "      <td>India</td>\n",
       "      <td>Unavaliable</td>\n",
       "    </tr>\n",
       "    <tr>\n",
       "      <th>506</th>\n",
       "      <td>281</td>\n",
       "      <td>S. Abdul Hamid</td>\n",
       "      <td>M</td>\n",
       "      <td>25.0</td>\n",
       "      <td>176.3</td>\n",
       "      <td>70.7</td>\n",
       "      <td>India</td>\n",
       "      <td>IND</td>\n",
       "      <td>1928 Summer</td>\n",
       "      <td>1928</td>\n",
       "      <td>Summer</td>\n",
       "      <td>Amsterdam</td>\n",
       "      <td>Athletics</td>\n",
       "      <td>Athletics Men's 400 metres Hurdles</td>\n",
       "      <td>Not Won</td>\n",
       "      <td>India</td>\n",
       "      <td>Unavaliable</td>\n",
       "    </tr>\n",
       "    <tr>\n",
       "      <th>895</th>\n",
       "      <td>512</td>\n",
       "      <td>Shiny Kurisingal Abraham-Wilson</td>\n",
       "      <td>F</td>\n",
       "      <td>19.0</td>\n",
       "      <td>167.0</td>\n",
       "      <td>53.0</td>\n",
       "      <td>India</td>\n",
       "      <td>IND</td>\n",
       "      <td>1984 Summer</td>\n",
       "      <td>1984</td>\n",
       "      <td>Summer</td>\n",
       "      <td>Los Angeles</td>\n",
       "      <td>Athletics</td>\n",
       "      <td>Athletics Women's 800 metres</td>\n",
       "      <td>Not Won</td>\n",
       "      <td>India</td>\n",
       "      <td>Unavaliable</td>\n",
       "    </tr>\n",
       "    <tr>\n",
       "      <th>896</th>\n",
       "      <td>512</td>\n",
       "      <td>Shiny Kurisingal Abraham-Wilson</td>\n",
       "      <td>F</td>\n",
       "      <td>19.0</td>\n",
       "      <td>167.0</td>\n",
       "      <td>53.0</td>\n",
       "      <td>India</td>\n",
       "      <td>IND</td>\n",
       "      <td>1984 Summer</td>\n",
       "      <td>1984</td>\n",
       "      <td>Summer</td>\n",
       "      <td>Los Angeles</td>\n",
       "      <td>Athletics</td>\n",
       "      <td>Athletics Women's 4 x 400 metres Relay</td>\n",
       "      <td>Not Won</td>\n",
       "      <td>India</td>\n",
       "      <td>Unavaliable</td>\n",
       "    </tr>\n",
       "    <tr>\n",
       "      <th>897</th>\n",
       "      <td>512</td>\n",
       "      <td>Shiny Kurisingal Abraham-Wilson</td>\n",
       "      <td>F</td>\n",
       "      <td>23.0</td>\n",
       "      <td>167.0</td>\n",
       "      <td>53.0</td>\n",
       "      <td>India</td>\n",
       "      <td>IND</td>\n",
       "      <td>1988 Summer</td>\n",
       "      <td>1988</td>\n",
       "      <td>Summer</td>\n",
       "      <td>Seoul</td>\n",
       "      <td>Athletics</td>\n",
       "      <td>Athletics Women's 800 metres</td>\n",
       "      <td>Not Won</td>\n",
       "      <td>India</td>\n",
       "      <td>Unavaliable</td>\n",
       "    </tr>\n",
       "    <tr>\n",
       "      <th>898</th>\n",
       "      <td>512</td>\n",
       "      <td>Shiny Kurisingal Abraham-Wilson</td>\n",
       "      <td>F</td>\n",
       "      <td>23.0</td>\n",
       "      <td>167.0</td>\n",
       "      <td>53.0</td>\n",
       "      <td>India</td>\n",
       "      <td>IND</td>\n",
       "      <td>1988 Summer</td>\n",
       "      <td>1988</td>\n",
       "      <td>Summer</td>\n",
       "      <td>Seoul</td>\n",
       "      <td>Athletics</td>\n",
       "      <td>Athletics Women's 4 x 400 metres Relay</td>\n",
       "      <td>Not Won</td>\n",
       "      <td>India</td>\n",
       "      <td>Unavaliable</td>\n",
       "    </tr>\n",
       "    <tr>\n",
       "      <th>899</th>\n",
       "      <td>512</td>\n",
       "      <td>Shiny Kurisingal Abraham-Wilson</td>\n",
       "      <td>F</td>\n",
       "      <td>27.0</td>\n",
       "      <td>167.0</td>\n",
       "      <td>53.0</td>\n",
       "      <td>India</td>\n",
       "      <td>IND</td>\n",
       "      <td>1992 Summer</td>\n",
       "      <td>1992</td>\n",
       "      <td>Summer</td>\n",
       "      <td>Barcelona</td>\n",
       "      <td>Athletics</td>\n",
       "      <td>Athletics Women's 800 metres</td>\n",
       "      <td>Not Won</td>\n",
       "      <td>India</td>\n",
       "      <td>Unavaliable</td>\n",
       "    </tr>\n",
       "    <tr>\n",
       "      <th>900</th>\n",
       "      <td>512</td>\n",
       "      <td>Shiny Kurisingal Abraham-Wilson</td>\n",
       "      <td>F</td>\n",
       "      <td>31.0</td>\n",
       "      <td>167.0</td>\n",
       "      <td>53.0</td>\n",
       "      <td>India</td>\n",
       "      <td>IND</td>\n",
       "      <td>1996 Summer</td>\n",
       "      <td>1996</td>\n",
       "      <td>Summer</td>\n",
       "      <td>Atlanta</td>\n",
       "      <td>Athletics</td>\n",
       "      <td>Athletics Women's 4 x 400 metres Relay</td>\n",
       "      <td>Not Won</td>\n",
       "      <td>India</td>\n",
       "      <td>Unavaliable</td>\n",
       "    </tr>\n",
       "    <tr>\n",
       "      <th>1183</th>\n",
       "      <td>663</td>\n",
       "      <td>Sharath Kamal Achanta</td>\n",
       "      <td>M</td>\n",
       "      <td>22.0</td>\n",
       "      <td>186.0</td>\n",
       "      <td>85.0</td>\n",
       "      <td>India</td>\n",
       "      <td>IND</td>\n",
       "      <td>2004 Summer</td>\n",
       "      <td>2004</td>\n",
       "      <td>Summer</td>\n",
       "      <td>Athina</td>\n",
       "      <td>Table Tennis</td>\n",
       "      <td>Table Tennis Men's Singles</td>\n",
       "      <td>Not Won</td>\n",
       "      <td>India</td>\n",
       "      <td>Unavaliable</td>\n",
       "    </tr>\n",
       "    <tr>\n",
       "      <th>1184</th>\n",
       "      <td>663</td>\n",
       "      <td>Sharath Kamal Achanta</td>\n",
       "      <td>M</td>\n",
       "      <td>26.0</td>\n",
       "      <td>186.0</td>\n",
       "      <td>85.0</td>\n",
       "      <td>India</td>\n",
       "      <td>IND</td>\n",
       "      <td>2008 Summer</td>\n",
       "      <td>2008</td>\n",
       "      <td>Summer</td>\n",
       "      <td>Beijing</td>\n",
       "      <td>Table Tennis</td>\n",
       "      <td>Table Tennis Men's Singles</td>\n",
       "      <td>Not Won</td>\n",
       "      <td>India</td>\n",
       "      <td>Unavaliable</td>\n",
       "    </tr>\n",
       "  </tbody>\n",
       "</table>\n",
       "</div>"
      ],
      "text/plain": [
       "       ID                             Name Sex   Age  Height  Weight   Team  \\\n",
       "505   281                   S. Abdul Hamid   M  25.0   176.3    70.7  India   \n",
       "506   281                   S. Abdul Hamid   M  25.0   176.3    70.7  India   \n",
       "895   512  Shiny Kurisingal Abraham-Wilson   F  19.0   167.0    53.0  India   \n",
       "896   512  Shiny Kurisingal Abraham-Wilson   F  19.0   167.0    53.0  India   \n",
       "897   512  Shiny Kurisingal Abraham-Wilson   F  23.0   167.0    53.0  India   \n",
       "898   512  Shiny Kurisingal Abraham-Wilson   F  23.0   167.0    53.0  India   \n",
       "899   512  Shiny Kurisingal Abraham-Wilson   F  27.0   167.0    53.0  India   \n",
       "900   512  Shiny Kurisingal Abraham-Wilson   F  31.0   167.0    53.0  India   \n",
       "1183  663            Sharath Kamal Achanta   M  22.0   186.0    85.0  India   \n",
       "1184  663            Sharath Kamal Achanta   M  26.0   186.0    85.0  India   \n",
       "\n",
       "      NOC        Games  Year  Season         City         Sport  \\\n",
       "505   IND  1928 Summer  1928  Summer    Amsterdam     Athletics   \n",
       "506   IND  1928 Summer  1928  Summer    Amsterdam     Athletics   \n",
       "895   IND  1984 Summer  1984  Summer  Los Angeles     Athletics   \n",
       "896   IND  1984 Summer  1984  Summer  Los Angeles     Athletics   \n",
       "897   IND  1988 Summer  1988  Summer        Seoul     Athletics   \n",
       "898   IND  1988 Summer  1988  Summer        Seoul     Athletics   \n",
       "899   IND  1992 Summer  1992  Summer    Barcelona     Athletics   \n",
       "900   IND  1996 Summer  1996  Summer      Atlanta     Athletics   \n",
       "1183  IND  2004 Summer  2004  Summer       Athina  Table Tennis   \n",
       "1184  IND  2008 Summer  2008  Summer      Beijing  Table Tennis   \n",
       "\n",
       "                                       Event    Medal Region        Notes  \n",
       "505       Athletics Men's 110 metres Hurdles  Not Won  India  Unavaliable  \n",
       "506       Athletics Men's 400 metres Hurdles  Not Won  India  Unavaliable  \n",
       "895             Athletics Women's 800 metres  Not Won  India  Unavaliable  \n",
       "896   Athletics Women's 4 x 400 metres Relay  Not Won  India  Unavaliable  \n",
       "897             Athletics Women's 800 metres  Not Won  India  Unavaliable  \n",
       "898   Athletics Women's 4 x 400 metres Relay  Not Won  India  Unavaliable  \n",
       "899             Athletics Women's 800 metres  Not Won  India  Unavaliable  \n",
       "900   Athletics Women's 4 x 400 metres Relay  Not Won  India  Unavaliable  \n",
       "1183              Table Tennis Men's Singles  Not Won  India  Unavaliable  \n",
       "1184              Table Tennis Men's Singles  Not Won  India  Unavaliable  "
      ]
     },
     "execution_count": 25,
     "metadata": {},
     "output_type": "execute_result"
    }
   ],
   "source": [
    "india=df[df['Team']=='India']\n",
    "india.head(10)"
   ]
  },
  {
   "cell_type": "code",
   "execution_count": 26,
   "id": "021498a6",
   "metadata": {},
   "outputs": [
    {
     "data": {
      "text/plain": [
       "(1400, 17)"
      ]
     },
     "execution_count": 26,
     "metadata": {},
     "output_type": "execute_result"
    }
   ],
   "source": [
    "india.shape"
   ]
  },
  {
   "cell_type": "markdown",
   "id": "d6f1aa2f",
   "metadata": {},
   "source": [
    "###  Medal Distribution for Indian Athletes in the Dataset"
   ]
  },
  {
   "cell_type": "code",
   "execution_count": 27,
   "id": "2720b4be",
   "metadata": {},
   "outputs": [
    {
     "data": {
      "text/plain": [
       "Not Won    1203\n",
       "Gold        138\n",
       "Bronze       40\n",
       "Silver       19\n",
       "Name: Medal, dtype: int64"
      ]
     },
     "execution_count": 27,
     "metadata": {},
     "output_type": "execute_result"
    }
   ],
   "source": [
    "india_no_of_medals=india['Medal'].value_counts()\n",
    "india_no_of_medals"
   ]
  },
  {
   "cell_type": "code",
   "execution_count": 29,
   "id": "6c013140",
   "metadata": {},
   "outputs": [
    {
     "data": {
      "text/plain": [
       "<Axes: title={'center': 'Medal Distribution for Indian Athletes: Overall Count'}, ylabel='Medal'>"
      ]
     },
     "execution_count": 29,
     "metadata": {},
     "output_type": "execute_result"
    },
    {
     "data": {
      "image/png": "[encoded data removed]",
      "text/plain": [
       "<Figure size 1200x600 with 1 Axes>"
      ]
     },
     "metadata": {},
     "output_type": "display_data"
    }
   ],
   "source": [
    "plt.figure(figsize=(12,6))\n",
    "plt.title(\"Medal Distribution for Indian Athletes: Overall Count\")\n",
    "sns.barplot(x=india_no_of_medals.index, y=india_no_of_medals,palette='Set2')\n",
    "\n",
    "\n",
    "\n",
    "The provided code snippet creates a bar graph using Seaborn to visualize the distribution of medals won by Indian athletes in the Olympic Games. The india_no_of_medals variable likely represents a Pandas Series or DataFrame containing the count of medals won specifically by Indian athletes across different events or sports."
   ]
  },
  {
   "cell_type": "markdown",
   "id": "6b143152",
   "metadata": {},
   "source": [
    "## "
   ]
  },
  {
   "cell_type": "markdown",
   "id": "0bc7356f",
   "metadata": {},
   "source": [
    "# Step - 7 : Data Visualization"
   ]
  },
  {
   "cell_type": "markdown",
   "id": "650af6bd",
   "metadata": {},
   "source": [
    "### Top 10 Countries with the Most Appearances in the Dataset"
   ]
  },
  {
   "cell_type": "code",
   "execution_count": 30,
   "id": "1a5a728e",
   "metadata": {},
   "outputs": [
    {
     "data": {
      "text/plain": [
       "United States    17847\n",
       "France           11988\n",
       "Great Britain    11404\n",
       "Italy            10260\n",
       "Germany           9326\n",
       "Canada            9279\n",
       "Japan             8289\n",
       "Sweden            8052\n",
       "Australia         7513\n",
       "Hungary           6547\n",
       "Name: Team, dtype: int64"
      ]
     },
     "execution_count": 30,
     "metadata": {},
     "output_type": "execute_result"
    }
   ],
   "source": [
    "top_10_countries=df.Team.value_counts().sort_values(ascending=False).head(10)\n",
    "top_10_countries"
   ]
  },
  {
   "cell_type": "code",
   "execution_count": 31,
   "id": "0f11b646",
   "metadata": {},
   "outputs": [
    {
     "data": {
      "text/plain": [
       "<Axes: title={'center': 'Overal Participaton by countries'}, ylabel='Team'>"
      ]
     },
     "execution_count": 31,
     "metadata": {},
     "output_type": "execute_result"
    },
    {
     "data": {
      "image/png": "[encoded data removed]",
      "text/plain": [
       "<Figure size 1200x600 with 1 Axes>"
      ]
     },
     "metadata": {},
     "output_type": "display_data"
    }
   ],
   "source": [
    "plt.figure(figsize=(12,6))\n",
    "plt.title(\"Overal Participaton by countries\")\n",
    "sns.barplot(x=top_10_countries.index, y=top_10_countries,palette='Set2')"
   ]
  },
  {
   "cell_type": "markdown",
   "id": "231eb789",
   "metadata": {},
   "source": [
    "### Step - 7.1 : Distribution of Medals"
   ]
  },
  {
   "cell_type": "code",
   "execution_count": 8,
   "id": "89a5aa26",
   "metadata": {},
   "outputs": [
    {
     "data": {
      "text/plain": [
       "Gold      13372\n",
       "Bronze    13295\n",
       "Silver    13116\n",
       "Name: Medal, dtype: int64"
      ]
     },
     "execution_count": 8,
     "metadata": {},
     "output_type": "execute_result"
    }
   ],
   "source": [
    "medals=df['Medal'].value_counts()\n",
    "medals"
   ]
  },
  {
   "cell_type": "code",
   "execution_count": 11,
   "id": "5b4d2311",
   "metadata": {},
   "outputs": [
    {
     "data": {
      "text/plain": [
       "<Axes: title={'center': 'Medal Distribution of Athletes: Overall Count'}, ylabel='Medal'>"
      ]
     },
     "execution_count": 11,
     "metadata": {},
     "output_type": "execute_result"
    },
    {
     "data": {
      "image/png": "[encoded data removed]",
      "text/plain": [
       "<Figure size 1200x600 with 1 Axes>"
      ]
     },
     "metadata": {},
     "output_type": "display_data"
    }
   ],
   "source": [
    "plt.figure(figsize=(12,6))\n",
    "plt.title(\"Medal Distribution of Athletes: Overall Count\")\n",
    "sns.barplot(x=medals.index, y=medals,palette='Set2')\n"
   ]
  },
  {
   "cell_type": "markdown",
   "id": "cb7edad3",
   "metadata": {},
   "source": [
    "### DataFrame of Events where Gold Medals were Won"
   ]
  },
  {
   "cell_type": "code",
   "execution_count": 33,
   "id": "12231631",
   "metadata": {},
   "outputs": [
    {
     "data": {
      "text/html": [
       "<div>\n",
       "<style scoped>\n",
       "    .dataframe tbody tr th:only-of-type {\n",
       "        vertical-align: middle;\n",
       "    }\n",
       "\n",
       "    .dataframe tbody tr th {\n",
       "        vertical-align: top;\n",
       "    }\n",
       "\n",
       "    .dataframe thead th {\n",
       "        text-align: right;\n",
       "    }\n",
       "</style>\n",
       "<table border=\"1\" class=\"dataframe\">\n",
       "  <thead>\n",
       "    <tr style=\"text-align: right;\">\n",
       "      <th></th>\n",
       "      <th>ID</th>\n",
       "      <th>Name</th>\n",
       "      <th>Sex</th>\n",
       "      <th>Age</th>\n",
       "      <th>Height</th>\n",
       "      <th>Weight</th>\n",
       "      <th>Team</th>\n",
       "      <th>NOC</th>\n",
       "      <th>Games</th>\n",
       "      <th>Year</th>\n",
       "      <th>Season</th>\n",
       "      <th>City</th>\n",
       "      <th>Sport</th>\n",
       "      <th>Event</th>\n",
       "      <th>Medal</th>\n",
       "      <th>Region</th>\n",
       "      <th>Notes</th>\n",
       "    </tr>\n",
       "  </thead>\n",
       "  <tbody>\n",
       "    <tr>\n",
       "      <th>3</th>\n",
       "      <td>4</td>\n",
       "      <td>Edgar Lindenau Aabye</td>\n",
       "      <td>M</td>\n",
       "      <td>34.0</td>\n",
       "      <td>176.3</td>\n",
       "      <td>70.7</td>\n",
       "      <td>Denmark/Sweden</td>\n",
       "      <td>DEN</td>\n",
       "      <td>1900 Summer</td>\n",
       "      <td>1900</td>\n",
       "      <td>Summer</td>\n",
       "      <td>Paris</td>\n",
       "      <td>Tug-Of-War</td>\n",
       "      <td>Tug-Of-War Men's Tug-Of-War</td>\n",
       "      <td>Gold</td>\n",
       "      <td>Denmark</td>\n",
       "      <td>Unavaliable</td>\n",
       "    </tr>\n",
       "    <tr>\n",
       "      <th>42</th>\n",
       "      <td>17</td>\n",
       "      <td>Paavo Johannes Aaltonen</td>\n",
       "      <td>M</td>\n",
       "      <td>28.0</td>\n",
       "      <td>175.0</td>\n",
       "      <td>64.0</td>\n",
       "      <td>Finland</td>\n",
       "      <td>FIN</td>\n",
       "      <td>1948 Summer</td>\n",
       "      <td>1948</td>\n",
       "      <td>Summer</td>\n",
       "      <td>London</td>\n",
       "      <td>Gymnastics</td>\n",
       "      <td>Gymnastics Men's Team All-Around</td>\n",
       "      <td>Gold</td>\n",
       "      <td>Finland</td>\n",
       "      <td>Unavaliable</td>\n",
       "    </tr>\n",
       "    <tr>\n",
       "      <th>44</th>\n",
       "      <td>17</td>\n",
       "      <td>Paavo Johannes Aaltonen</td>\n",
       "      <td>M</td>\n",
       "      <td>28.0</td>\n",
       "      <td>175.0</td>\n",
       "      <td>64.0</td>\n",
       "      <td>Finland</td>\n",
       "      <td>FIN</td>\n",
       "      <td>1948 Summer</td>\n",
       "      <td>1948</td>\n",
       "      <td>Summer</td>\n",
       "      <td>London</td>\n",
       "      <td>Gymnastics</td>\n",
       "      <td>Gymnastics Men's Horse Vault</td>\n",
       "      <td>Gold</td>\n",
       "      <td>Finland</td>\n",
       "      <td>Unavaliable</td>\n",
       "    </tr>\n",
       "    <tr>\n",
       "      <th>48</th>\n",
       "      <td>17</td>\n",
       "      <td>Paavo Johannes Aaltonen</td>\n",
       "      <td>M</td>\n",
       "      <td>28.0</td>\n",
       "      <td>175.0</td>\n",
       "      <td>64.0</td>\n",
       "      <td>Finland</td>\n",
       "      <td>FIN</td>\n",
       "      <td>1948 Summer</td>\n",
       "      <td>1948</td>\n",
       "      <td>Summer</td>\n",
       "      <td>London</td>\n",
       "      <td>Gymnastics</td>\n",
       "      <td>Gymnastics Men's Pommelled Horse</td>\n",
       "      <td>Gold</td>\n",
       "      <td>Finland</td>\n",
       "      <td>Unavaliable</td>\n",
       "    </tr>\n",
       "    <tr>\n",
       "      <th>60</th>\n",
       "      <td>20</td>\n",
       "      <td>Kjetil Andr Aamodt</td>\n",
       "      <td>M</td>\n",
       "      <td>20.0</td>\n",
       "      <td>176.0</td>\n",
       "      <td>85.0</td>\n",
       "      <td>Norway</td>\n",
       "      <td>NOR</td>\n",
       "      <td>1992 Winter</td>\n",
       "      <td>1992</td>\n",
       "      <td>Winter</td>\n",
       "      <td>Albertville</td>\n",
       "      <td>Alpine Skiing</td>\n",
       "      <td>Alpine Skiing Men's Super G</td>\n",
       "      <td>Gold</td>\n",
       "      <td>Norway</td>\n",
       "      <td>Unavaliable</td>\n",
       "    </tr>\n",
       "  </tbody>\n",
       "</table>\n",
       "</div>"
      ],
      "text/plain": [
       "    ID                     Name Sex   Age  Height  Weight            Team  \\\n",
       "3    4     Edgar Lindenau Aabye   M  34.0   176.3    70.7  Denmark/Sweden   \n",
       "42  17  Paavo Johannes Aaltonen   M  28.0   175.0    64.0         Finland   \n",
       "44  17  Paavo Johannes Aaltonen   M  28.0   175.0    64.0         Finland   \n",
       "48  17  Paavo Johannes Aaltonen   M  28.0   175.0    64.0         Finland   \n",
       "60  20       Kjetil Andr Aamodt   M  20.0   176.0    85.0          Norway   \n",
       "\n",
       "    NOC        Games  Year  Season         City          Sport  \\\n",
       "3   DEN  1900 Summer  1900  Summer        Paris     Tug-Of-War   \n",
       "42  FIN  1948 Summer  1948  Summer       London     Gymnastics   \n",
       "44  FIN  1948 Summer  1948  Summer       London     Gymnastics   \n",
       "48  FIN  1948 Summer  1948  Summer       London     Gymnastics   \n",
       "60  NOR  1992 Winter  1992  Winter  Albertville  Alpine Skiing   \n",
       "\n",
       "                               Event Medal   Region        Notes  \n",
       "3        Tug-Of-War Men's Tug-Of-War  Gold  Denmark  Unavaliable  \n",
       "42  Gymnastics Men's Team All-Around  Gold  Finland  Unavaliable  \n",
       "44      Gymnastics Men's Horse Vault  Gold  Finland  Unavaliable  \n",
       "48  Gymnastics Men's Pommelled Horse  Gold  Finland  Unavaliable  \n",
       "60       Alpine Skiing Men's Super G  Gold   Norway  Unavaliable  "
      ]
     },
     "execution_count": 33,
     "metadata": {},
     "output_type": "execute_result"
    }
   ],
   "source": [
    "goldmedals=df[(df.Medal=='Gold')]\n",
    "goldmedals.head()"
   ]
  },
  {
   "cell_type": "markdown",
   "id": "a5b11283",
   "metadata": {},
   "source": [
    "### Gold Medals Won by Athletes Over 60 and their Respective Sports"
   ]
  },
  {
   "cell_type": "code",
   "execution_count": 34,
   "id": "fc66c6b8",
   "metadata": {},
   "outputs": [
    {
     "name": "stdout",
     "output_type": "stream",
     "text": [
      "6\n",
      "104003    Art Competitions\n",
      "105199               Roque\n",
      "190952             Archery\n",
      "226374             Archery\n",
      "233390            Shooting\n",
      "261102             Archery\n",
      "Name: Sport, dtype: object\n"
     ]
    }
   ],
   "source": [
    "print(goldmedals[\"ID\"][goldmedals['Age']>60].count())\n",
    "print(goldmedals['Sport'][goldmedals[\"Age\"]>60])"
   ]
  },
  {
   "cell_type": "markdown",
   "id": "8435dd31",
   "metadata": {},
   "source": [
    "### Top 10 Countries with the Most Gold Medals "
   ]
  },
  {
   "cell_type": "code",
   "execution_count": 35,
   "id": "d2ef58d7",
   "metadata": {},
   "outputs": [
    {
     "data": {
      "text/html": [
       "<div>\n",
       "<style scoped>\n",
       "    .dataframe tbody tr th:only-of-type {\n",
       "        vertical-align: middle;\n",
       "    }\n",
       "\n",
       "    .dataframe tbody tr th {\n",
       "        vertical-align: top;\n",
       "    }\n",
       "\n",
       "    .dataframe thead th {\n",
       "        text-align: right;\n",
       "    }\n",
       "</style>\n",
       "<table border=\"1\" class=\"dataframe\">\n",
       "  <thead>\n",
       "    <tr style=\"text-align: right;\">\n",
       "      <th></th>\n",
       "      <th>Team</th>\n",
       "      <th>Medal</th>\n",
       "    </tr>\n",
       "  </thead>\n",
       "  <tbody>\n",
       "    <tr>\n",
       "      <th>224</th>\n",
       "      <td>United States</td>\n",
       "      <td>2474</td>\n",
       "    </tr>\n",
       "    <tr>\n",
       "      <th>200</th>\n",
       "      <td>Soviet Union</td>\n",
       "      <td>1058</td>\n",
       "    </tr>\n",
       "    <tr>\n",
       "      <th>87</th>\n",
       "      <td>Germany</td>\n",
       "      <td>679</td>\n",
       "    </tr>\n",
       "    <tr>\n",
       "      <th>112</th>\n",
       "      <td>Italy</td>\n",
       "      <td>535</td>\n",
       "    </tr>\n",
       "    <tr>\n",
       "      <th>90</th>\n",
       "      <td>Great Britain</td>\n",
       "      <td>519</td>\n",
       "    </tr>\n",
       "    <tr>\n",
       "      <th>80</th>\n",
       "      <td>France</td>\n",
       "      <td>455</td>\n",
       "    </tr>\n",
       "    <tr>\n",
       "      <th>205</th>\n",
       "      <td>Sweden</td>\n",
       "      <td>451</td>\n",
       "    </tr>\n",
       "    <tr>\n",
       "      <th>102</th>\n",
       "      <td>Hungary</td>\n",
       "      <td>432</td>\n",
       "    </tr>\n",
       "    <tr>\n",
       "      <th>35</th>\n",
       "      <td>Canada</td>\n",
       "      <td>422</td>\n",
       "    </tr>\n",
       "    <tr>\n",
       "      <th>62</th>\n",
       "      <td>East Germany</td>\n",
       "      <td>369</td>\n",
       "    </tr>\n",
       "  </tbody>\n",
       "</table>\n",
       "</div>"
      ],
      "text/plain": [
       "              Team  Medal\n",
       "224  United States   2474\n",
       "200   Soviet Union   1058\n",
       "87         Germany    679\n",
       "112          Italy    535\n",
       "90   Great Britain    519\n",
       "80          France    455\n",
       "205         Sweden    451\n",
       "102        Hungary    432\n",
       "35          Canada    422\n",
       "62    East Germany    369"
      ]
     },
     "execution_count": 35,
     "metadata": {},
     "output_type": "execute_result"
    }
   ],
   "source": [
    "#no.of medals gold medals for each Country\n",
    "df_gold = df[df[\"Medal\"]==\"Gold\"].groupby(\"Team\").Medal.count().reset_index()\n",
    "df_gold = df_gold.sort_values(by=\"Medal\",ascending=False)[:10]\n",
    "df_gold\n"
   ]
  },
  {
   "cell_type": "markdown",
   "id": "9ba1bd1a",
   "metadata": {},
   "source": [
    "### Top 10 Countries with the Most Silver Medals "
   ]
  },
  {
   "cell_type": "code",
   "execution_count": 36,
   "id": "727a7715",
   "metadata": {},
   "outputs": [
    {
     "data": {
      "text/html": [
       "<div>\n",
       "<style scoped>\n",
       "    .dataframe tbody tr th:only-of-type {\n",
       "        vertical-align: middle;\n",
       "    }\n",
       "\n",
       "    .dataframe tbody tr th {\n",
       "        vertical-align: top;\n",
       "    }\n",
       "\n",
       "    .dataframe thead th {\n",
       "        text-align: right;\n",
       "    }\n",
       "</style>\n",
       "<table border=\"1\" class=\"dataframe\">\n",
       "  <thead>\n",
       "    <tr style=\"text-align: right;\">\n",
       "      <th></th>\n",
       "      <th>Team</th>\n",
       "      <th>Medal</th>\n",
       "    </tr>\n",
       "  </thead>\n",
       "  <tbody>\n",
       "    <tr>\n",
       "      <th>255</th>\n",
       "      <td>United States</td>\n",
       "      <td>1512</td>\n",
       "    </tr>\n",
       "    <tr>\n",
       "      <th>213</th>\n",
       "      <td>Soviet Union</td>\n",
       "      <td>716</td>\n",
       "    </tr>\n",
       "    <tr>\n",
       "      <th>83</th>\n",
       "      <td>Germany</td>\n",
       "      <td>627</td>\n",
       "    </tr>\n",
       "    <tr>\n",
       "      <th>89</th>\n",
       "      <td>Great Britain</td>\n",
       "      <td>582</td>\n",
       "    </tr>\n",
       "    <tr>\n",
       "      <th>76</th>\n",
       "      <td>France</td>\n",
       "      <td>518</td>\n",
       "    </tr>\n",
       "    <tr>\n",
       "      <th>114</th>\n",
       "      <td>Italy</td>\n",
       "      <td>508</td>\n",
       "    </tr>\n",
       "    <tr>\n",
       "      <th>225</th>\n",
       "      <td>Sweden</td>\n",
       "      <td>476</td>\n",
       "    </tr>\n",
       "    <tr>\n",
       "      <th>6</th>\n",
       "      <td>Australia</td>\n",
       "      <td>453</td>\n",
       "    </tr>\n",
       "    <tr>\n",
       "      <th>29</th>\n",
       "      <td>Canada</td>\n",
       "      <td>413</td>\n",
       "    </tr>\n",
       "    <tr>\n",
       "      <th>189</th>\n",
       "      <td>Russia</td>\n",
       "      <td>351</td>\n",
       "    </tr>\n",
       "  </tbody>\n",
       "</table>\n",
       "</div>"
      ],
      "text/plain": [
       "              Team  Medal\n",
       "255  United States   1512\n",
       "213   Soviet Union    716\n",
       "83         Germany    627\n",
       "89   Great Britain    582\n",
       "76          France    518\n",
       "114          Italy    508\n",
       "225         Sweden    476\n",
       "6        Australia    453\n",
       "29          Canada    413\n",
       "189         Russia    351"
      ]
     },
     "execution_count": 36,
     "metadata": {},
     "output_type": "execute_result"
    }
   ],
   "source": [
    "df_silver = df[df[\"Medal\"]==\"Silver\"].groupby(\"Team\").Medal.count().reset_index()\n",
    "df_silver= df_silver.sort_values(by=\"Medal\",ascending=False)[:10]\n",
    "df_silver"
   ]
  },
  {
   "cell_type": "markdown",
   "id": "ea4b41a0",
   "metadata": {},
   "source": [
    "### Top 10 Countries with the Most Bronze Medals "
   ]
  },
  {
   "cell_type": "code",
   "execution_count": 37,
   "id": "75a1d263",
   "metadata": {},
   "outputs": [
    {
     "data": {
      "text/html": [
       "<div>\n",
       "<style scoped>\n",
       "    .dataframe tbody tr th:only-of-type {\n",
       "        vertical-align: middle;\n",
       "    }\n",
       "\n",
       "    .dataframe tbody tr th {\n",
       "        vertical-align: top;\n",
       "    }\n",
       "\n",
       "    .dataframe thead th {\n",
       "        text-align: right;\n",
       "    }\n",
       "</style>\n",
       "<table border=\"1\" class=\"dataframe\">\n",
       "  <thead>\n",
       "    <tr style=\"text-align: right;\">\n",
       "      <th></th>\n",
       "      <th>Team</th>\n",
       "      <th>Medal</th>\n",
       "    </tr>\n",
       "  </thead>\n",
       "  <tbody>\n",
       "    <tr>\n",
       "      <th>246</th>\n",
       "      <td>United States</td>\n",
       "      <td>1233</td>\n",
       "    </tr>\n",
       "    <tr>\n",
       "      <th>92</th>\n",
       "      <td>Germany</td>\n",
       "      <td>678</td>\n",
       "    </tr>\n",
       "    <tr>\n",
       "      <th>213</th>\n",
       "      <td>Soviet Union</td>\n",
       "      <td>677</td>\n",
       "    </tr>\n",
       "    <tr>\n",
       "      <th>83</th>\n",
       "      <td>France</td>\n",
       "      <td>577</td>\n",
       "    </tr>\n",
       "    <tr>\n",
       "      <th>97</th>\n",
       "      <td>Great Britain</td>\n",
       "      <td>572</td>\n",
       "    </tr>\n",
       "    <tr>\n",
       "      <th>11</th>\n",
       "      <td>Australia</td>\n",
       "      <td>511</td>\n",
       "    </tr>\n",
       "    <tr>\n",
       "      <th>221</th>\n",
       "      <td>Sweden</td>\n",
       "      <td>507</td>\n",
       "    </tr>\n",
       "    <tr>\n",
       "      <th>124</th>\n",
       "      <td>Italy</td>\n",
       "      <td>484</td>\n",
       "    </tr>\n",
       "    <tr>\n",
       "      <th>81</th>\n",
       "      <td>Finland</td>\n",
       "      <td>415</td>\n",
       "    </tr>\n",
       "    <tr>\n",
       "      <th>43</th>\n",
       "      <td>Canada</td>\n",
       "      <td>408</td>\n",
       "    </tr>\n",
       "  </tbody>\n",
       "</table>\n",
       "</div>"
      ],
      "text/plain": [
       "              Team  Medal\n",
       "246  United States   1233\n",
       "92         Germany    678\n",
       "213   Soviet Union    677\n",
       "83          France    577\n",
       "97   Great Britain    572\n",
       "11       Australia    511\n",
       "221         Sweden    507\n",
       "124          Italy    484\n",
       "81         Finland    415\n",
       "43          Canada    408"
      ]
     },
     "execution_count": 37,
     "metadata": {},
     "output_type": "execute_result"
    }
   ],
   "source": [
    "df_bronze = df[df[\"Medal\"]==\"Bronze\"].groupby(\"Team\").Medal.count().reset_index()\n",
    "df_bronze= df_bronze.sort_values(by=\"Medal\",ascending=False)[:10]\n",
    "df_bronze"
   ]
  },
  {
   "cell_type": "code",
   "execution_count": 39,
   "id": "035ef37d",
   "metadata": {},
   "outputs": [
    {
     "data": {
      "text/plain": [
       "Text(0.5, 1.0, 'Bronze Medal Count: Top 10 Countries')"
      ]
     },
     "execution_count": 39,
     "metadata": {},
     "output_type": "execute_result"
    },
    {
     "data": {
      "image/png": "[encoded data removed]",
      "text/plain": [
       "<Figure size 1200x600 with 1 Axes>"
      ]
     },
     "metadata": {},
     "output_type": "display_data"
    },
    {
     "data": {
      "image/png": "[encoded data removed]",
      "text/plain": [
       "<Figure size 1200x600 with 1 Axes>"
      ]
     },
     "metadata": {},
     "output_type": "display_data"
    },
    {
     "data": {
      "image/png": "[encoded data removed]",
      "text/plain": [
       "<Figure size 1200x600 with 1 Axes>"
      ]
     },
     "metadata": {},
     "output_type": "display_data"
    }
   ],
   "source": [
    "#Bar-graph for gold medals \n",
    "plt.figure(figsize=(12, 6)) \n",
    "sns.barplot(x=df_gold['Team'], y=df_gold['Medal'], data=df_gold)\n",
    "plt.xlabel('Name of the Country')\n",
    "plt.ylabel('Number of Gold Medals')\n",
    "plt.title('Gold Medal Count: Top 10 Countries')\n",
    "\n",
    "\n",
    "#Bar-graph for silver medals \n",
    "plt.figure(figsize=(12, 6))  \n",
    "sns.barplot(x=df_silver['Team'], y=df_silver['Medal'], data=df_silver)\n",
    "plt.xlabel('Name of the Country')\n",
    "plt.ylabel('Number of Silver Medals')\n",
    "plt.title('Silver Medal Count: Top 10 Countries')\n",
    "\n",
    "\n",
    "#Bar-graph for bronze medals \n",
    "plt.figure(figsize=(12, 6))  \n",
    "sns.barplot(x=df_bronze['Team'], y=df_bronze['Medal'], data=df_bronze)\n",
    "plt.xlabel('Name of the Country')\n",
    "plt.ylabel('Number of Bronze Medals')\n",
    "plt.title('Bronze Medal Count: Top 10 Countries')\n",
    "\n",
    "\n",
    "\n"
   ]
  },
  {
   "cell_type": "markdown",
   "id": "f3ff9366",
   "metadata": {},
   "source": [
    "### Step - 7.2 : Frequency of Olympic Events Hosted by Cities"
   ]
  },
  {
   "cell_type": "code",
   "execution_count": 69,
   "id": "937f8635",
   "metadata": {},
   "outputs": [
    {
     "name": "stdout",
     "output_type": "stream",
     "text": [
      "Total Number of Cities Hosting Olympic Events:  42\n",
      "\n",
      "London                    22426\n",
      "Athina                    15556\n",
      "Sydney                    13821\n",
      "Atlanta                   13780\n",
      "Rio de Janeiro            13688\n",
      "Beijing                   13602\n",
      "Barcelona                 12977\n",
      "Los Angeles               12423\n",
      "Seoul                     12037\n",
      "Munich                    10304\n",
      "Montreal                   8641\n",
      "Mexico City                8588\n",
      "Helsinki                   8270\n",
      "Roma                       8119\n",
      "Tokyo                      7702\n",
      "Moskva                     7191\n",
      "Paris                      7169\n",
      "Berlin                     6506\n",
      "Amsterdam                  4992\n",
      "Sochi                      4891\n",
      "Melbourne                  4829\n",
      "Vancouver                  4402\n",
      "Torino                     4382\n",
      "Stockholm                  4338\n",
      "Antwerpen                  4292\n",
      "Salt Lake City             4109\n",
      "Innsbruck                  3639\n",
      "Nagano                     3605\n",
      "Albertville                3436\n",
      "Lillehammer                3160\n",
      "Calgary                    2639\n",
      "Sarajevo                   2134\n",
      "Lake Placid                2098\n",
      "Grenoble                   1891\n",
      "Sankt Moritz               1657\n",
      "Sapporo                    1655\n",
      "Cortina d'Ampezzo          1307\n",
      "St. Louis                  1301\n",
      "Squaw Valley               1116\n",
      "Oslo                       1088\n",
      "Garmisch-Partenkirchen      895\n",
      "Chamonix                    460\n",
      "Name: City, dtype: int64\n"
     ]
    }
   ],
   "source": [
    "print(\"Total Number of Cities Hosting Olympic Events: \",len(df['City'].value_counts()))\n",
    "print()\n",
    "print(df['City'].value_counts())"
   ]
  },
  {
   "cell_type": "code",
   "execution_count": 60,
   "id": "c700b4af",
   "metadata": {},
   "outputs": [
    {
     "data": {
      "text/plain": [
       "London            22426\n",
       "Athina            15556\n",
       "Sydney            13821\n",
       "Atlanta           13780\n",
       "Rio de Janeiro    13688\n",
       "Beijing           13602\n",
       "Barcelona         12977\n",
       "Los Angeles       12423\n",
       "Seoul             12037\n",
       "Munich            10304\n",
       "Name: City, dtype: int64"
      ]
     },
     "execution_count": 60,
     "metadata": {},
     "output_type": "execute_result"
    }
   ],
   "source": [
    "city_held=df['City'].value_counts().head(10)\n",
    "city_held"
   ]
  },
  {
   "cell_type": "code",
   "execution_count": 62,
   "id": "6bf51d5d",
   "metadata": {},
   "outputs": [
    {
     "data": {
      "text/plain": [
       "<Axes: title={'center': 'Frequency of Olympic Events Hosted by Cities'}, ylabel='City'>"
      ]
     },
     "execution_count": 62,
     "metadata": {},
     "output_type": "execute_result"
    },
    {
     "data": {
      "image/png": "[encoded data removed]",
      "text/plain": [
       "<Figure size 1200x600 with 1 Axes>"
      ]
     },
     "metadata": {},
     "output_type": "display_data"
    }
   ],
   "source": [
    "plt.figure(figsize=(12,6))\n",
    "plt.title(\"Frequency of Olympic Events Hosted by Cities\")\n",
    "sns.barplot(x=city_held.index, y=city_held,palette='Set2')"
   ]
  },
  {
   "cell_type": "markdown",
   "id": "4503771a",
   "metadata": {},
   "source": [
    "### Age Distribution of Participants in the Dataset"
   ]
  },
  {
   "cell_type": "code",
   "execution_count": 23,
   "id": "6863575f",
   "metadata": {},
   "outputs": [
    {
     "data": {
      "text/plain": [
       "(array([1.4000e+01, 2.2600e+02, 3.0400e+03, 9.2280e+03, 1.9795e+04,\n",
       "        3.4422e+04, 4.2689e+04, 4.1427e+04, 3.3700e+04, 2.5506e+04,\n",
       "        1.7047e+04, 1.1046e+04, 7.1180e+03, 4.4560e+03, 3.0170e+03,\n",
       "        2.1630e+03, 1.6590e+03, 1.2670e+03, 8.3700e+02, 7.6900e+02,\n",
       "        4.7700e+02, 4.4400e+02, 2.6600e+02, 2.0000e+02, 1.7100e+02,\n",
       "        1.5600e+02, 1.1800e+02, 1.1400e+02, 5.6000e+01, 8.5000e+01,\n",
       "        6.1000e+01, 3.2000e+01, 1.6000e+01, 9.0000e+00]),\n",
       " array([10., 12., 14., 16., 18., 20., 22., 24., 26., 28., 30., 32., 34.,\n",
       "        36., 38., 40., 42., 44., 46., 48., 50., 52., 54., 56., 58., 60.,\n",
       "        62., 64., 66., 68., 70., 72., 74., 76., 78.]),\n",
       " <BarContainer object of 34 artists>)"
      ]
     },
     "execution_count": 23,
     "metadata": {},
     "output_type": "execute_result"
    },
    {
     "data": {
      "image/png": "[encoded data removed]",
      "text/plain": [
       "<Figure size 1200x600 with 1 Axes>"
      ]
     },
     "metadata": {},
     "output_type": "display_data"
    }
   ],
   "source": [
    "#Age Distribution of the athletes\n",
    "plt.figure(figsize=(12,6))\n",
    "plt.title(\"Age distribution of the athletes\")\n",
    "plt.xlabel('Age')\n",
    "plt.ylabel('Number of Participants')\n",
    "plt.hist(df.Age,bins=np.arange(10,80,2),edgecolor='white')"
   ]
  },
  {
   "cell_type": "markdown",
   "id": "388de90e",
   "metadata": {},
   "source": [
    "### Step - 7.3 : Sports in Winter and Summer Olympics"
   ]
  },
  {
   "cell_type": "code",
   "execution_count": 41,
   "id": "61929c36",
   "metadata": {
    "scrolled": true
   },
   "outputs": [
    {
     "name": "stdout",
     "output_type": "stream",
     "text": [
      "No.of Sports that are held in Winter season:  17\n",
      "\n",
      "['Speed Skating' 'Cross Country Skiing' 'Ice Hockey' 'Biathlon'\n",
      " 'Alpine Skiing' 'Luge' 'Bobsleigh' 'Figure Skating' 'Nordic Combined'\n",
      " 'Freestyle Skiing' 'Ski Jumping' 'Curling' 'Snowboarding'\n",
      " 'Short Track Speed Skating' 'Skeleton' 'Military Ski Patrol' 'Alpinism']\n"
     ]
    }
   ],
   "source": [
    "#winter and summer olympics\n",
    "winter_sports=df[df.Season=='Winter'].Sport.unique()\n",
    "b=len(winter_sports)\n",
    "print(\"No.of Sports that are held in Winter season: \",b)\n",
    "print()\n",
    "print(winter_sports)"
   ]
  },
  {
   "cell_type": "code",
   "execution_count": 42,
   "id": "f6144bdf",
   "metadata": {},
   "outputs": [
    {
     "name": "stdout",
     "output_type": "stream",
     "text": [
      "No.of Sports that are held in Winter season:  52\n",
      "\n",
      "['Basketball' 'Judo' 'Football' 'Tug-Of-War' 'Athletics' 'Swimming'\n",
      " 'Badminton' 'Sailing' 'Gymnastics' 'Art Competitions' 'Handball'\n",
      " 'Weightlifting' 'Wrestling' 'Water Polo' 'Hockey' 'Rowing' 'Fencing'\n",
      " 'Equestrianism' 'Shooting' 'Boxing' 'Taekwondo' 'Cycling' 'Diving'\n",
      " 'Canoeing' 'Tennis' 'Modern Pentathlon' 'Golf' 'Softball' 'Archery'\n",
      " 'Volleyball' 'Synchronized Swimming' 'Table Tennis' 'Baseball'\n",
      " 'Rhythmic Gymnastics' 'Rugby Sevens' 'Trampolining' 'Beach Volleyball'\n",
      " 'Triathlon' 'Rugby' 'Lacrosse' 'Polo' 'Cricket' 'Ice Hockey' 'Racquets'\n",
      " 'Motorboating' 'Croquet' 'Figure Skating' 'Jeu De Paume' 'Roque'\n",
      " 'Basque Pelota' 'Alpinism' 'Aeronautics']\n"
     ]
    }
   ],
   "source": [
    "summer_sports=df[df.Season=='Summer'].Sport.unique()\n",
    "a=len(summer_sports)\n",
    "print(\"No.of Sports that are held in Winter season: \",a)\n",
    "print()\n",
    "print(summer_sports)"
   ]
  },
  {
   "cell_type": "markdown",
   "id": "eeb15db5",
   "metadata": {},
   "source": [
    "# Step - 8 : Gender Distribution of Participants"
   ]
  },
  {
   "cell_type": "code",
   "execution_count": 43,
   "id": "dba0b8cd",
   "metadata": {},
   "outputs": [
    {
     "data": {
      "text/plain": [
       "M    196594\n",
       "F     74522\n",
       "Name: Sex, dtype: int64"
      ]
     },
     "execution_count": 43,
     "metadata": {},
     "output_type": "execute_result"
    }
   ],
   "source": [
    "gender=df.Sex.value_counts()\n",
    "gender"
   ]
  },
  {
   "cell_type": "markdown",
   "id": "b324c2ff",
   "metadata": {},
   "source": [
    "### Step - 8.1 : Proportion of Participants by Gender"
   ]
  },
  {
   "cell_type": "code",
   "execution_count": 44,
   "id": "308383e0",
   "metadata": {},
   "outputs": [
    {
     "data": {
      "text/plain": [
       "([<matplotlib.patches.Wedge at 0x1f61e9453c0>,\n",
       "  <matplotlib.patches.Wedge at 0x1f61e91c430>],\n",
       " [Text(0.20089640434146097, -1.081499253223354, 'M'),\n",
       "  Text(-0.2008963030841931, 1.081499272032628, 'F')],\n",
       " [Text(0.10957985691352415, -0.5899086835763748, '72.5%'),\n",
       "  Text(-0.10957980168228713, 0.5899086938359788, '27.5%')])"
      ]
     },
     "execution_count": 44,
     "metadata": {},
     "output_type": "execute_result"
    },
    {
     "data": {
      "image/png": "[encoded data removed]",
      "text/plain": [
       "<Figure size 1200x600 with 1 Axes>"
      ]
     },
     "metadata": {},
     "output_type": "display_data"
    }
   ],
   "source": [
    "plt.figure(figsize=(12,6))\n",
    "plt.title(\"Gender Distribution\")\n",
    "plt.pie(gender,labels=gender.index,autopct='%1.1f%%',startangle=150,shadow=True)"
   ]
  },
  {
   "cell_type": "markdown",
   "id": "c7be3aad",
   "metadata": {},
   "source": [
    "### Step - 8.2 : Female and Male Athlete Participation in Summer and Winter Olympics Across the Years"
   ]
  },
  {
   "cell_type": "markdown",
   "id": "d0f4bdda",
   "metadata": {},
   "source": [
    "### Data for Female and Male Athletes in Summer Olympics"
   ]
  },
  {
   "cell_type": "code",
   "execution_count": 13,
   "id": "5be6e49f",
   "metadata": {},
   "outputs": [],
   "source": [
    "women_athletes_summer=df[(df.Sex=='F')&(df.Season=='Summer')]\n",
    "men_athletes_summer=df[(df.Sex=='M')&(df.Season=='Summer')]"
   ]
  },
  {
   "cell_type": "code",
   "execution_count": 14,
   "id": "e1bfd484",
   "metadata": {},
   "outputs": [
    {
     "data": {
      "text/plain": [
       "Text(0.5, 1.0, 'Number of Male Athletes in Summer Olympics Across the Years')"
      ]
     },
     "execution_count": 14,
     "metadata": {},
     "output_type": "execute_result"
    },
    {
     "data": {
      "image/png": "[encoded data removed]",
      "text/plain": [
       "<Figure size 2000x1000 with 1 Axes>"
      ]
     },
     "metadata": {},
     "output_type": "display_data"
    },
    {
     "data": {
      "image/png": "[encoded data removed]",
      "text/plain": [
       "<Figure size 2000x1000 with 1 Axes>"
      ]
     },
     "metadata": {},
     "output_type": "display_data"
    }
   ],
   "source": [
    "sns.set(style='darkgrid')\n",
    "plt.figure(figsize=(20,10))\n",
    "sns.countplot(x=\"Year\",data=women_athletes_summer, palette=\"Spectral\")\n",
    "plt.title(\"Number of Female Athletes in Summer Olympics Across the Years\")\n",
    "\n",
    "\n",
    "\n",
    "sns.set(style='darkgrid')\n",
    "plt.figure(figsize=(20,10))\n",
    "sns.countplot(x=\"Year\",data=men_athletes_summer, palette=\"Spectral\")\n",
    "plt.title(\"Number of Male Athletes in Summer Olympics Across the Years\")\n"
   ]
  },
  {
   "cell_type": "markdown",
   "id": "c33ba290",
   "metadata": {},
   "source": [
    "### Data for Female and Male Athletes in Summer Olympics"
   ]
  },
  {
   "cell_type": "code",
   "execution_count": 11,
   "id": "788572b0",
   "metadata": {},
   "outputs": [],
   "source": [
    "women_athletes_winter=df[(df.Sex=='F')&(df.Season=='Winter')]\n",
    "men_athletes_winter=df[(df.Sex=='M')&(df.Season=='Winter')]"
   ]
  },
  {
   "cell_type": "code",
   "execution_count": 53,
   "id": "d2c54c7f",
   "metadata": {},
   "outputs": [
    {
     "data": {
      "text/plain": [
       "Text(0.5, 1.0, 'Number of Male Athletes in Winter Olympics Across the Years')"
      ]
     },
     "execution_count": 53,
     "metadata": {},
     "output_type": "execute_result"
    },
    {
     "data": {
      "image/png": "[encoded data removed]",
      "text/plain": [
       "<Figure size 2000x1000 with 1 Axes>"
      ]
     },
     "metadata": {},
     "output_type": "display_data"
    },
    {
     "data": {
      "image/png": "[encoded data removed]",
      "text/plain": [
       "<Figure size 2000x1000 with 1 Axes>"
      ]
     },
     "metadata": {},
     "output_type": "display_data"
    }
   ],
   "source": [
    "sns.set(style='darkgrid')\n",
    "plt.figure(figsize=(20,10))\n",
    "sns.countplot(x=\"Year\",data=women_athletes_winter, palette=\"Spectral\")\n",
    "plt.title(\"Number of Female Athletes in Winter Olympics Across the Years\")\n",
    "\n",
    "\n",
    "sns.set(style='darkgrid')\n",
    "plt.figure(figsize=(20,10))\n",
    "sns.countplot(x=\"Year\",data=men_athletes_winter, palette=\"Spectral\")\n",
    "plt.title(\"Number of Male Athletes in Winter Olympics Across the Years\")"
   ]
  },
  {
   "cell_type": "markdown",
   "id": "241bb16a",
   "metadata": {},
   "source": [
    "### Step - 8.3 : Comparison of Female and Male Athlete Participation Over the Years"
   ]
  },
  {
   "cell_type": "code",
   "execution_count": 16,
   "id": "b292a8ce",
   "metadata": {},
   "outputs": [],
   "source": [
    "#No.of Male and Female athletes in each year\n",
    "women_athletes=df[(df.Sex=='F')]\n",
    "men_athletes=df[(df.Sex=='M')]\n",
    " "
   ]
  },
  {
   "cell_type": "code",
   "execution_count": 18,
   "id": "c46d6499",
   "metadata": {},
   "outputs": [
    {
     "data": {
      "text/plain": [
       "<matplotlib.legend.Legend at 0x25fe27406a0>"
      ]
     },
     "execution_count": 18,
     "metadata": {},
     "output_type": "execute_result"
    },
    {
     "data": {
      "image/png": "[encoded data removed]",
      "text/plain": [
       "<Figure size 2000x1000 with 1 Axes>"
      ]
     },
     "metadata": {},
     "output_type": "display_data"
    }
   ],
   "source": [
    "part=women_athletes.groupby('Year')['Sex'].value_counts()\n",
    "part1=men_athletes.groupby('Year')['Sex'].value_counts()\n",
    "plt.figure(figsize=(20,10))\n",
    "plt.plot(part.loc[:,'F'],label='Female')\n",
    "part1.loc[:,'M'].plot(label='Male')\n",
    "plt.title('Comparison of Female and Male Athlete Participation Over Time')\n",
    "plt.legend()"
   ]
  },
  {
   "cell_type": "markdown",
   "id": "a8f0353e",
   "metadata": {},
   "source": [
    "# Step - 9 : 2016 Olympics"
   ]
  },
  {
   "cell_type": "markdown",
   "id": "c45967e3",
   "metadata": {},
   "source": [
    "### Top 10 Countries with the Most Gold Medals in the 2016 Olympic Year"
   ]
  },
  {
   "cell_type": "code",
   "execution_count": 55,
   "id": "91bd6bfa",
   "metadata": {},
   "outputs": [
    {
     "name": "stdout",
     "output_type": "stream",
     "text": [
      "2016\n"
     ]
    },
    {
     "data": {
      "text/plain": [
       "United States    137\n",
       "Great Britain     64\n",
       "Russia            50\n",
       "Germany           47\n",
       "China             44\n",
       "Brazil            34\n",
       "Australia         23\n",
       "Argentina         21\n",
       "France            20\n",
       "Japan             17\n",
       "Name: Team, dtype: int64"
      ]
     },
     "execution_count": 55,
     "metadata": {},
     "output_type": "execute_result"
    }
   ],
   "source": [
    "#2016 rio olympics\n",
    "max_year=df.Year.max()\n",
    "print(max_year)\n",
    "country_names=df[(df.Year==max_year)&(df.Medal=='Gold')].Team\n",
    "country_names.value_counts().head(10)"
   ]
  },
  {
   "cell_type": "code",
   "execution_count": 56,
   "id": "6c481910",
   "metadata": {},
   "outputs": [
    {
     "data": {
      "text/plain": [
       "Text(0.5, 0, 'Top 10 Countries with the Most Gold Medals 2016 Olympic Year')"
      ]
     },
     "execution_count": 56,
     "metadata": {},
     "output_type": "execute_result"
    },
    {
     "data": {
      "image/png": "[encoded data removed]",
      "text/plain": [
       "<Figure size 640x480 with 1 Axes>"
      ]
     },
     "metadata": {},
     "output_type": "display_data"
    }
   ],
   "source": [
    "sns.barplot(x=country_names.value_counts().head(20),y=country_names.value_counts().head(20).index)\n",
    "plt.ylabel(None)\n",
    "plt.xlabel(\"Top 10 Countries with the Most Gold Medals 2016 Olympic Year\")"
   ]
  },
  {
   "cell_type": "markdown",
   "id": "40dc332c",
   "metadata": {},
   "source": [
    "## Step - 10 : Height and Weight of Olympic Medalists by Gender"
   ]
  },
  {
   "cell_type": "code",
   "execution_count": 49,
   "id": "149840cc",
   "metadata": {},
   "outputs": [],
   "source": [
    "not_null_medals=df[(df['Height'].notnull())&(df['Weight'].notnull())]"
   ]
  },
  {
   "cell_type": "code",
   "execution_count": null,
   "id": "bc90e297",
   "metadata": {},
   "outputs": [],
   "source": [
    "plt.figure(figsize=(12,10))\n",
    "axis=sns.scatterplot(x='Height',y='Weight',data=not_null_medals,hue='Sex')\n",
    "plt.title(\"Height vs Weight of Olympic Medalists\")"
   ]
  },
  {
   "cell_type": "markdown",
   "id": "4b5f03ce",
   "metadata": {},
   "source": [
    "## Conclusion"
   ]
  },
  {
   "cell_type": "markdown",
   "id": "bfeb2883",
   "metadata": {},
   "source": [
    "United States led the medal count with a significant margin, obtaining 17847 medals.\n",
    "\n",
    "The United States secured the top position with an impressive 2474 gold medals.\n",
    "\n",
    "The age group of 23 years has the highest number of individuals, and as the age increases, the number of individuals generally decreases. \n",
    "\n",
    "The Summer season offers a more extensive variety of sports compared to the Winter season. \n",
    "\n",
    "Among the 42 cities, London has hosted the most events, with a total of 22,426\n",
    "\n",
    "The data shows that 72.5% represents the Male category, while 27.5% represents the Female category.\n",
    "\n",
    "The cluster representing males appears to be larger than the cluster representing females, indicating that there might be more male Olympic Medalists in the dataset\n"
   ]
  }
 ],
 "metadata": {
  "kernelspec": {
   "display_name": "Python 3 (ipykernel)",
   "language": "python",
   "name": "python3"
  },
  "language_info": {
   "codemirror_mode": {
    "name": "ipython",
    "version": 3
   },
   "file_extension": ".py",
   "mimetype": "text/x-python",
   "name": "python",
   "nbconvert_exporter": "python",
   "pygments_lexer": "ipython3",
   "version": "3.11.5"
  }
 },
 "nbformat": 4,
 "nbformat_minor": 5
}
